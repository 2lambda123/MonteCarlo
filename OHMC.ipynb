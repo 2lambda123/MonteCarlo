{
 "cells": [
  {
   "cell_type": "markdown",
   "metadata": {},
   "source": [
    "# Optimal Hedged Monte Carlo\n",
    "\n",
    "Author: Jerry Xia\n",
    "\n",
    "Date: 2018/06/19"
   ]
  },
  {
   "cell_type": "markdown",
   "metadata": {},
   "source": [
    "## 1 Introduction\n",
    "\n",
    "### 1.1 Facts\n",
    "* The option price is not simply the average value of the discounted future pay-off over the objective (or historical) probability distribution\n",
    "* The requirement of absence of arbitrage opportunities is equivalent to the existence of \"risk-neutral measure\", such that the price is indeed its average discounted future pay-off.\n",
    "* Risk in option trading cannot be eliminated\n",
    "\n",
    "### 1.2 Objective\n",
    "* It would be satisfactory to have a option theory where the objective stochastic process of the underlying is used to calculated the option price, the hedge strategy and the *residual risk*.\n",
    "\n",
    "### 1.3 Advantages\n",
    "* It is a versatile methods to price complicated path-dependent options.\n",
    "* Considerable variance reduction scheme for Monte Carlo\n",
    "* It provide not only a numerical estimate of the option price, but also of the optimal hedge strategy and of the residual risk.\n",
    "* This method does not rely on the notion of risk-neutral measure, and can be used to any model of the true dynamics of the underlying"
   ]
  },
  {
   "cell_type": "markdown",
   "metadata": {},
   "source": [
    "## 2 Underlying dynamics\n",
    "\n",
    "### Black-Scholes Model\n",
    "$$dS = r S dt + \\sigma S dW_t$$\n",
    "$$log S_{t+1} = log S_t +(r - \\frac{\\sigma^2}{2})\\Delta t + \\sigma \\sqrt{\\Delta t} \\epsilon$$\n",
    "where\n",
    "    $$\\epsilon \\sim N(0,1)$$\n"
   ]
  },
  {
   "cell_type": "markdown",
   "metadata": {},
   "source": [
    "## 3 Methodology\n",
    "\n",
    "### Simbols Definition\n",
    "Option price always requires to work backward. That is because the option price is known exactly at the maturity. As with other schemes, we determine the option price step by step from the maturity $t=K\\tau=T$ to the present time $t=0$. The unit of time being $\\tau$, for example, one day. We simulate $N$ trajectories. In trajectory i, the price of the underlying asset at time $k\\tau$ is denoted as $S_k^{(i)}$. The price of the derivative at time $k\\tau$ is denoted as $C_k$, and the hedge function is $H_k$. We define an optimal hedged portfolio as\n",
    "$$W_k^{(i)} = C_k(S_k^{(i)}) + H_k(S_k^{(i)})S_k^{(i)}$$\n",
    "The one-step change of our portfolio is\n",
    "$$\\Delta W_k^{(i)}= df(k,k+1) C_{k+1}(S_{k+1}^{(i)}) - C_k(S_k^{(i)}) + H_k(S_{k}^{(i)}) (df(k,k+1) S_{k+1}^{(i)} - S_{k}^{(i)})$$\n",
    "Where $df(k,k+1)$ is the discounted factor from time $k\\tau$ to $(k+1) \\tau$\n",
    "\n",
    "### Objective\n",
    "The optimal hedged algorithm can be interpreted as the following optimal problem\n",
    "\\begin{align}\n",
    "\\mbox{minimize}\\quad & \\quad Var[\\Delta W_k]\\\\\n",
    "\\mbox{subject to}\\quad & \\quad E[\\Delta W_k]=0\n",
    "\\end{align}\n",
    "\n",
    "### Basis Functions\n",
    "The original optimization is very difficult to solve. Thus we assume a set of basis function and solved it in such subspace.\n",
    "$$\n",
    "C_k(\\cdot) = \\sum_{i=0}^{N_C} a_{k,i} A_i(\\cdot)\\\\\n",
    "H_k(\\cdot) = \\sum_{i=0}^{N_H} b_{k,i} B_i(\\cdot)\n",
    "$$\n",
    "The basis functions $A_i$ and $B_i$ are priori determined and need not to be identical. The coefficients $a_i$ and $b_i$ can be calibrated by solving the optimal problem.\n",
    "\n",
    "### Numerical Solution\n",
    "\\begin{align}\n",
    "\\mbox{minimize}\\quad & \\quad \\frac{1}{N} \\sum_{i=1}^N \\Delta W_k^{(i)2}\\\\\n",
    "\\mbox{subject to}\\quad & \\quad \\frac{1}{N} \\sum_{i=1}^N \\Delta W_k^{(i)}=0\n",
    "\\end{align}\n",
    "\n",
    "Denote the discounted forward underlying price change at time $k\\tau$ as\n",
    "\n",
    "$$\\Delta S_k = df(k,k+1) S_{k+1} - S_k$$\n",
    "\n",
    "Define\n",
    "\n",
    "\\begin{align}\n",
    "Q_k &= \\begin{bmatrix}\n",
    "    -A_{k,1}(S_k^{(1)}) & \\cdots & -A_{k,N_C}(S_k^{(1)}) & B_{k,1}(S_k^{(1)})\\Delta S_k^{(1)}& \\cdots  & B_{k,N_H}(S_k^{(1)})\\Delta S_k^{(1)} \\\\\n",
    "    -A_{k,1}(S_k^{(2)}) & \\cdots & -A_{k,N_C}(S_k^{(2)}) & B_{k,1}(S_k^{(2)})\\Delta S_k^{(2)}& \\cdots  & B_{k,N_H}(S_k^{(1)})\\Delta S_k^{(2)} \\\\\n",
    "    \\vdots & \\vdots & \\vdots & \\vdots & \\vdots & \\vdots\\\\\n",
    "    -A_{k,1}(S_k^{(N)}) & \\cdots & -A_{k,N_C}(S_k^{(N)}) & B_{k,1}(S_k^{(N)})\\Delta S_k^{(N)}& \\cdots  & B_{k,N_H}(S_k^{(N)})\\Delta S_k^{(N)}\n",
    "    \\end{bmatrix}\\\\\\\\\n",
    "c_k &= (a_{k,1}, \\cdots a_{k,N_C}, b_{k,1}, \\cdots, b_{k,N_H})^T\\\\\\\\\n",
    "v_{k} &= df(k,k+1) C_{k+1}(S_{k+1}^{})\n",
    "\\end{align}\n",
    "\n",
    "As for $v_k$, note that we know the exact value at maturity, which means there is no need to approximate price in terms of basis functions, that is\n",
    "\n",
    "\\begin{align}\n",
    "v_k = \\begin{cases}\n",
    "df(N-1,N)\\ payoff(S_N),\\quad & k=N-1\\\\\n",
    "df(k,k+1)\\ \\sum_{i=1}^{N_C} A_i(S_{k+1}), \\quad & k<N-1\n",
    "\\end{cases}\n",
    "\\end{align}\n",
    "\n",
    "Then, the optimization problem can be expressed as\n",
    "\n",
    "\\begin{align}\n",
    "\\arg\\min_{c_k}\\quad & \\quad (v_{k} + Q_k c_k)^T (v_{k} + Q_k c_k)\\\\\n",
    "\\mbox{subject to}\\quad & \\quad 1_{[N\\times1]}^T (v_{k}  + Q_k c_k)=0\n",
    "\\end{align}\n",
    "\n",
    "In step k, since we already know the information ($v_{k}$) in step k+1. By canceling the constant term, the optimal problem can be simplified as the following \n",
    "\n",
    "\\begin{align}\n",
    "\\arg\\min_{c_k}\\quad & \\quad 2 v_{k}^T Q_k c_k + c_k^T Q_k^T Q_k c_k\\\\\n",
    "\\mbox{subject to}\\quad & \\quad 1_{[N\\times1]}^T v_{k}  + 1_{[N\\times1]}^T Q_k c_k=0\n",
    "\\end{align}"
   ]
  },
  {
   "cell_type": "code",
   "execution_count": 1,
   "metadata": {},
   "outputs": [],
   "source": [
    "import numpy as np\n",
    "import scipy as sp"
   ]
  },
  {
   "cell_type": "code",
   "execution_count": 44,
   "metadata": {},
   "outputs": [],
   "source": [
    "risk_free_rate = 0.02\n",
    "time_to_maturity = 1\n",
    "volatility = 0.3\n",
    "strike = 100\n",
    "stock_price = 100\n",
    "n_trails = 1000\n",
    "n_steps = 200\n",
    "func_list = [lambda x: x**0, lambda x: x, lambda x: x**2]"
   ]
  },
  {
   "cell_type": "code",
   "execution_count": 34,
   "metadata": {},
   "outputs": [],
   "source": [
    "class MonteCarlo:\n",
    "    def __init__(self,S0,K,T,r,sigma,underlying_process=\"geometric brownian motion\"):\n",
    "        self.underlying_process = underlying_process\n",
    "        self.S0 = S0\n",
    "        self.K = K\n",
    "        self.T = T\n",
    "        self.r = r\n",
    "        self.sigma = sigma\n",
    "        \n",
    "    def simulate(self, n_trails, n_steps):\n",
    "        dt = self.T/n_steps\n",
    "        if(self.underlying_process==\"geometric brownian motion\"):\n",
    "#             first_step_prices = np.ones((n_trails,1))*np.log(self.S0)\n",
    "            log_price_matrix = np.zeros((n_trails,n_steps))\n",
    "            normal_matrix = np.random.normal(size=(n_trails,n_steps))\n",
    "            cumsum_normal_matrix = normal_matrix.cumsum(axis=1)\n",
    "#             log_price_matrix = np.concatenate((first_step_prices,log_price_matrix),axis=1)\n",
    "            deviation_matrix = cumsum_normal_matrix*self.sigma*np.sqrt(dt) + \\\n",
    "    (self.r-self.sigma**2/2)*dt*np.arange(1,n_steps+1)\n",
    "            log_price_matrix = deviation_matrix+np.log(self.S0)\n",
    "            price_matrix = np.exp(log_price_matrix)\n",
    "        return price_matrix"
   ]
  },
  {
   "cell_type": "code",
   "execution_count": 35,
   "metadata": {},
   "outputs": [],
   "source": [
    "mc = MonteCarlo(stock_price,strike,time_to_maturity,risk_free_rate,volatility)"
   ]
  },
  {
   "cell_type": "code",
   "execution_count": 36,
   "metadata": {},
   "outputs": [],
   "source": [
    "price_matrix = mc.simulate(n_trails,n_steps)"
   ]
  },
  {
   "cell_type": "code",
   "execution_count": 37,
   "metadata": {},
   "outputs": [
    {
     "data": {
      "text/plain": [
       "(1000, 200)"
      ]
     },
     "execution_count": 37,
     "metadata": {},
     "output_type": "execute_result"
    }
   ],
   "source": [
    "price_matrix.shape"
   ]
  },
  {
   "cell_type": "code",
   "execution_count": 11,
   "metadata": {},
   "outputs": [
    {
     "data": {
      "text/plain": [
       "array([[ 1,  3,  9],\n",
       "       [ 1,  2,  4],\n",
       "       [ 1,  4, 16],\n",
       "       [ 1,  5, 25],\n",
       "       [ 1,  6, 36]])"
      ]
     },
     "execution_count": 11,
     "metadata": {},
     "output_type": "execute_result"
    }
   ],
   "source": [
    "funcs = [lambda x: x**0, lambda x: x, lambda x: x**2]\n",
    "np.array([func(np.array([3,2,4,5,6])) for func in funcs]).T"
   ]
  },
  {
   "cell_type": "code",
   "execution_count": 12,
   "metadata": {},
   "outputs": [
    {
     "data": {
      "text/plain": [
       "array([[ 2,  4,  0, 12, 10, 18, 28],\n",
       "       [ 3,  4, 12,  4,  0,  0,  0],\n",
       "       [ 1,  4,  0, 16, 10,  0,  7],\n",
       "       [ 2,  4, 12, 12, 10,  0, 14],\n",
       "       [ 3,  4, 12, 16,  0, 18, 21],\n",
       "       [ 2,  4,  6,  0,  0, 12, 14],\n",
       "       [ 4,  4,  9,  8, 20, 18, 14]])"
      ]
     },
     "execution_count": 12,
     "metadata": {},
     "output_type": "execute_result"
    }
   ],
   "source": [
    "A*np.array([1,2,3,4,5,6,7])"
   ]
  },
  {
   "cell_type": "code",
   "execution_count": 43,
   "metadata": {},
   "outputs": [],
   "source": [
    "def calculate_Q_matrix(price_matrix,r,dt,step_k,func_list=[lambda x: x**0, lambda x: x, lambda x: x**2]):\n",
    "    n_trails,n_steps = price_matrix.shape\n",
    "    S_k = price_matrix[:,step_k-1]\n",
    "    S_kp1 = price_matrix[:,step_k]\n",
    "    DS = np.exp(-r*dt)*S_kp1 - S_k\n",
    "    A = np.array([func(S_k) for func in func_list]).T\n",
    "    B = (np.array([func(S_k) for func in func_list])*DS).T\n",
    "    return np.concatenate((-A,B),axis=1)"
   ]
  },
  {
   "cell_type": "code",
   "execution_count": 39,
   "metadata": {},
   "outputs": [
    {
     "data": {
      "text/plain": [
       "array([[-1.00000000e+00, -5.80804380e+01, -3.37333727e+03,\n",
       "         1.17653916e+00,  6.83339098e+01,  3.96886341e+03],\n",
       "       [-1.00000000e+00, -1.48596220e+02, -2.20808365e+04,\n",
       "         5.35132534e-01,  7.95186715e+01,  1.18161740e+04],\n",
       "       [-1.00000000e+00, -7.68211527e+01, -5.90148950e+03,\n",
       "         1.36866402e+00,  1.05142348e+02,  8.07715635e+03],\n",
       "       ...,\n",
       "       [-1.00000000e+00, -1.43430939e+02, -2.05724343e+04,\n",
       "        -3.19022186e+00, -4.57576518e+02, -6.56306296e+04],\n",
       "       [-1.00000000e+00, -8.13940345e+01, -6.62498886e+03,\n",
       "         7.80779083e-01,  6.35507597e+01,  5.17265273e+03],\n",
       "       [-1.00000000e+00, -1.48125458e+02, -2.19411514e+04,\n",
       "        -3.63555864e+00, -5.38518789e+02, -7.97683425e+04]])"
      ]
     },
     "execution_count": 39,
     "metadata": {},
     "output_type": "execute_result"
    }
   ],
   "source": [
    "calculate_Q_matrix(price_matrix,r=risk_free_rate,dt=time_to_maturity/n_steps,step_k=n_steps-1)"
   ]
  },
  {
   "cell_type": "code",
   "execution_count": 40,
   "metadata": {},
   "outputs": [],
   "source": [
    "def discounted_function(risk_free_rate,interval):\n",
    "    return np.exp(-risk_free_rate*interval)"
   ]
  },
  {
   "cell_type": "code",
   "execution_count": 42,
   "metadata": {},
   "outputs": [],
   "source": [
    "def calculate_v_vector(df,Ckp1):\n",
    "    return df*Ckp1"
   ]
  },
  {
   "cell_type": "code",
   "execution_count": 45,
   "metadata": {},
   "outputs": [],
   "source": [
    "def calculate_C_vector(a,S,func_list):\n",
    "    return np.dot(a,[func(S) for func in func_list])"
   ]
  },
  {
   "cell_type": "code",
   "execution_count": 49,
   "metadata": {},
   "outputs": [
    {
     "name": "stdout",
     "output_type": "stream",
     "text": [
      "10\n",
      "9\n",
      "8\n",
      "7\n",
      "6\n",
      "5\n",
      "4\n",
      "3\n",
      "2\n",
      "1\n"
     ]
    }
   ],
   "source": [
    "for i in range(10,0,-1):\n",
    "    print(i)"
   ]
  },
  {
   "cell_type": "code",
   "execution_count": 52,
   "metadata": {},
   "outputs": [],
   "source": [
    "def pricing():\n",
    "    n_trails, n_steps = price_matrix.shape\n",
    "    vkp1 = (price_matrix[:,-1] - strike)\n",
    "    vkp1 = np.where(vK<0,0,vK)\n",
    "    for k in range(n_steps-2,-1,-1):\n",
    "        Sk = price_matrix[:,k]\n",
    "        Skp1 = price_matrix[:,k+1]\n",
    "        Q = calculate_Q_matrix(price_matrix,r=risk_free_rate,dt=time_to_maturity/n_steps,step_k=k)\n",
    "        \n",
    "    \n",
    "        "
   ]
  },
  {
   "cell_type": "code",
   "execution_count": 53,
   "metadata": {},
   "outputs": [
    {
     "name": "stdout",
     "output_type": "stream",
     "text": [
      "[  0.          49.14626612   0.           0.           7.31607813\n",
      "   0.           0.          61.99645926  12.03191711  58.60519694\n",
      "   0.           0.           0.          14.90590267   0.\n",
      "   9.16992825   1.73352783   0.           0.           7.45175918\n",
      "  10.74008574   0.           0.           0.           0.\n",
      "   6.33959673  98.40745525   0.           0.           9.60220027\n",
      "   0.           0.           0.           0.          42.30998994\n",
      "   0.          68.43515354  15.38252755  53.82785131   0.\n",
      "   0.          15.35883087  33.22080621   0.          42.04204198\n",
      "  54.956158    32.53899055  43.63776388  94.12236999   0.\n",
      "  71.9642412   15.46550234  30.81350107  24.10043508   0.\n",
      "  65.45463724  78.36718272   2.70587914   0.           6.04082834\n",
      "  13.81076032   0.           0.           0.          14.95247999\n",
      "   0.           0.           0.          73.39270148   0.\n",
      "   0.           9.77538545   0.          31.36128546   0.\n",
      "   8.20064     61.05167911   0.           0.           0.\n",
      "  36.82109085   0.           0.           0.          17.89836978\n",
      "   0.          22.20569561   0.           0.          15.70172808\n",
      "  14.59722547   0.          18.05447021   0.          22.90014749\n",
      " 118.32983231  44.30477719   0.          11.16594152  27.149989\n",
      "   0.           0.           0.           0.           0.\n",
      "  33.36107651   0.           0.           0.           0.\n",
      "  42.97967193  10.46314457   0.           0.          11.39506044\n",
      "  24.31573092  28.75729914 152.15585857  21.00019845  19.47982864\n",
      "   0.           0.           0.           0.          50.29658653\n",
      "   4.1714109    0.          20.84445278  12.3350561    0.\n",
      "   0.          64.7072183   47.17908875   0.           0.\n",
      "  16.76071751  50.25382163   0.          20.22774628   7.98405251\n",
      "   0.          16.09909871   0.           9.46296708  39.470013\n",
      "   0.           0.          26.64863207   0.           0.\n",
      "   0.           9.62120516  35.31593852   0.           0.\n",
      "  18.97077546   0.           0.           0.           0.\n",
      "   0.           0.           5.70065785   0.           0.\n",
      "  25.3550008    2.31242319   0.           0.           0.\n",
      "   0.           0.           1.65739841   0.           0.\n",
      "  35.62782143   0.           0.          32.22122392   0.\n",
      "  22.29662262   7.75076108   0.           0.         108.04757145\n",
      "   0.          10.85979851  30.85493207   0.           1.60348073\n",
      "   0.           0.           0.           0.          38.49863035\n",
      "  33.28221307  31.6766088    0.           0.           0.\n",
      "   0.           0.           0.          28.18129355   0.\n",
      "  24.316479    48.57376881   0.          51.57585182   4.53653125\n",
      "   0.           3.20469208   4.44276577  28.31733964  40.65215268\n",
      "   7.63366618   3.81574018   0.           2.31338134   1.55174235\n",
      "   0.           0.           0.           0.           0.\n",
      "   0.           0.           0.           0.           0.\n",
      "  16.2942926   24.15473677   0.          20.69907902   8.93981705\n",
      "   0.           0.          16.45510165   0.          14.75135034\n",
      "   0.           0.           0.           0.          11.78541622\n",
      "  19.90504483   0.          22.77853821  42.03683983   0.\n",
      "  69.81843364   0.          23.33396227  46.84847495   0.\n",
      "   0.          57.80783618  51.9937122    0.          33.89309108\n",
      "  52.65858686   0.           0.          19.18437751   0.\n",
      "   0.          45.28623651   0.           0.           0.\n",
      "   0.           0.          62.43285273   0.          84.13197001\n",
      "   0.           0.          27.4712483   11.5513261   61.84644459\n",
      "   0.           0.          39.44335586   0.           0.\n",
      "  42.58998733   7.9044673    0.          32.68579331  41.11800246\n",
      "   4.30513909   3.44381046  16.58690801   0.99569759   9.02524737\n",
      "   0.           0.           0.           0.          49.98741084\n",
      " 102.94980593  15.46090114   0.          86.42142105   0.\n",
      "  57.05139165   0.           0.           5.99460702  25.03059167\n",
      "  86.47434481  37.87760575   0.           0.           0.\n",
      "   0.          25.33885248   0.          21.70215228   0.\n",
      "  56.78375819   0.           0.           0.           0.\n",
      "   0.           0.          24.44846045   0.           0.\n",
      "   0.          14.16164602   4.53585039   0.          37.32566773\n",
      "   8.86670359   0.           8.26531435  26.12945253   6.73022525\n",
      "  15.99282974   0.          36.9528853   10.38607786  61.72706603\n",
      "  14.33447346  17.52877736   0.           0.           0.\n",
      "   0.           0.          37.49646276   7.75512595   0.\n",
      "  33.73810979  36.05604692  16.5176922   57.52916757   0.\n",
      "  12.18202993   0.           0.          20.06494422  10.70578702\n",
      "   0.           0.          13.49008052   0.          19.55630204\n",
      "   0.           0.          11.21308818  19.72086136   0.\n",
      "   8.97543042   0.           0.           0.          13.29648422\n",
      "   0.           7.44483444  19.43858447  21.47769367  29.58149848\n",
      "   0.           0.           0.          29.67954863   0.\n",
      "   0.          57.48213782   0.           0.           0.\n",
      "   7.19436291   0.          17.36006634   0.47757194   0.\n",
      "   0.           0.           2.37819648   0.           0.\n",
      "  16.71303771  40.48526903   0.           0.          42.2840554\n",
      "  24.56437713  13.03481962   0.          10.58472008   0.\n",
      "  28.66603647  45.86596535   0.80032937   0.           0.\n",
      "   0.           0.           0.          13.04077201   0.\n",
      "   0.           5.47608546   0.          18.18361457  12.32981932\n",
      "   0.           0.           0.           2.97458556   0.\n",
      "   0.           9.26400152   0.           4.7065479    0.\n",
      "   0.           0.          32.49714913  53.88855649   2.10616501\n",
      "   0.          34.15914791  26.64586409  77.34619751  23.52099782\n",
      "   0.           0.           0.           1.84135518  30.90186168\n",
      "   0.           0.          44.14760126  21.29457192   0.\n",
      "  18.96906307   0.          18.27941957   0.           9.61911098\n",
      "  15.50708633   8.99303238  42.08160438   0.          36.53505355\n",
      "   0.          77.51926371   0.         121.36790439  47.2084319\n",
      "  46.55183665   9.53421223   2.92002175   8.34426087  26.49066368\n",
      "   0.           7.87098954  11.80993688   0.           0.\n",
      "  72.65666368   0.           2.53974383   0.           9.07825436\n",
      "   0.           9.29112815   8.08137169  10.86415175   0.\n",
      "   0.           2.37312709  20.97469972  35.97763466   4.70060644\n",
      "   0.           0.          23.80496717   0.           0.\n",
      "   0.           0.           0.           0.           0.35723298\n",
      "   0.           0.          49.58761284  18.18014748   0.\n",
      "  48.79719517   0.          16.83227967   0.          43.3252036\n",
      "   0.          25.48642851  19.45429671   0.           0.\n",
      "  62.06487749   0.           8.83410691   0.           0.\n",
      "   0.           0.          85.97871822   0.          45.65728818\n",
      "   0.           0.           0.           4.28408541  49.9009781\n",
      "   0.           0.           0.           0.           0.\n",
      "   0.           0.           0.           0.           0.\n",
      "   0.           0.          32.01627117  15.50974803  25.91164523\n",
      "  21.02052284  59.54933163  48.27807676   6.33572254  34.97122983\n",
      "   0.           0.           0.          17.03778741   0.\n",
      "   0.          13.53872344   0.           0.           0.\n",
      "  26.88246027   9.98121193  49.61503842  57.88994885   0.\n",
      "   0.          18.16814729   0.          61.61110646   0.\n",
      "   4.54778248   0.           0.          73.22347591  50.41560699\n",
      "   0.           0.           0.           0.           0.\n",
      "   0.          53.21483131  13.54941365   0.          32.76813095\n",
      "   0.           0.          60.6854857    0.           0.\n",
      "  24.90564662   0.          18.20016802   0.           0.\n",
      "  30.59894685  77.85705132  29.40863888   0.           0.\n",
      "  14.74607931   0.           0.          66.59121586   0.\n",
      "   0.          96.32156885   0.          55.98273479   0.\n",
      "   0.          39.07063381  19.20161351   5.48897795  19.32966143\n",
      "   0.          19.30272379   0.          17.60256099  41.46105833\n",
      "  66.05498172  36.79721205  18.00049391  35.75468378   0.\n",
      "   0.           2.27877629   9.82733259   8.84008017  23.0162315\n",
      "   0.           0.           0.          37.52548943   0.\n",
      "   3.4539008    0.           0.           0.           0.\n",
      "   0.          40.59550717   5.60086611  13.9372852    0.\n",
      "  54.34071859  11.35902584  51.54569451   5.36360032  28.49397535\n",
      "   0.          25.13170707   3.31654391   0.          27.26866581\n",
      "   0.           0.          38.35939177   0.          34.69294391\n",
      "   0.          10.99753836   0.          60.02716265   1.03330575\n",
      "   2.38101356  25.24565     55.21025708  27.02146491  43.32367071\n",
      "  14.39682663   0.          19.60892622  46.24180106  59.77139584\n",
      "   0.          23.70668823  24.96638596   0.           0.\n",
      " 111.54735404   0.          49.15241291   4.10201639   0.\n",
      "   0.          30.24144035   4.22561234  19.56519282  22.9937767\n",
      "   0.           0.           0.           0.          36.93100002\n",
      "   0.           0.           0.          43.84363103   0.\n",
      "   0.          17.22635634   0.           0.           0.\n",
      "   0.           0.          52.27984645   0.           2.88892851\n",
      "  27.29590323  12.77180986  12.10173193   0.           0.\n",
      "   0.80362589   0.          28.53728325  12.38946487  16.28751065\n",
      "   0.           0.          43.87792009   0.           0.\n",
      "  20.21050819   0.          63.88731297   0.20618662  23.18658702\n",
      "  11.45849882  21.01506813   0.           0.           0.\n",
      "   0.          30.54078508   0.          55.67038929  75.28267003\n",
      "   0.           0.           0.           0.           0.\n",
      "   0.15570379  27.57907605   0.           0.           6.27524093\n",
      "  83.49845685   5.76150758   5.78699015  25.00586838   0.\n",
      "   0.          21.49305869   3.25800589   0.           0.\n",
      "   0.           0.           2.84347527  47.13399068   0.\n",
      "   4.79140642  93.27986502   0.           3.7236996   11.97954004\n",
      "   0.           0.           6.75557389  11.19946758   0.\n",
      "  32.0026983   81.28755027   0.          13.64972437   2.53001899\n",
      "   0.           0.          60.82921087  46.32873347  77.43898114\n",
      "  42.84187311   0.           0.           0.          44.87344543\n",
      "   0.           0.          37.72439353   0.           0.\n",
      "   0.           0.          44.02452365   0.           0.\n",
      "  15.1673427    0.          24.06829387  20.36105191   0.\n",
      "  14.25837756   1.38943352   0.           0.          54.00109747\n",
      "   0.           0.           0.          20.45500319  51.40764991\n",
      "   0.           0.           0.           0.           0.\n",
      "   0.           4.2045875    7.63485181  21.36480175  81.7173431\n",
      "  56.83754757   0.           0.           0.           0.55902154\n",
      "   0.           4.06588519   8.64121845  24.34575835   0.\n",
      "   0.          58.94331657   0.           0.           0.\n",
      "   0.          61.35072397 124.18715236  14.5791291    0.\n",
      "  35.59378475   0.           0.          10.29885321   7.6015548\n",
      "   2.70395217  23.01775331  21.12553587  64.03505967  51.09390036\n",
      "  54.78627635   8.63750882   5.75130339  28.37160263   0.\n",
      "   0.          66.07671872  19.26707088  19.72032912   1.99203148\n",
      "   0.          52.8522413    0.          16.2749431   56.88893601\n",
      "   0.           0.           0.          83.22502757  92.29553193\n",
      "  55.7653833   45.19039656   0.           0.          17.17167439\n",
      "   0.          26.67044017   0.          19.59653075   0.\n",
      "  27.0803052   19.20002034   0.           0.          99.00945125\n",
      "  10.48008885   0.           0.           0.         105.07634532\n",
      "   0.           0.          53.01271719   4.40714912   0.\n",
      "  66.00440789   0.           0.           6.57322815   0.\n",
      "   0.           0.           0.           5.92205049  37.28257727\n",
      "   0.          48.00584004   2.39600635   0.           0.\n",
      "   2.9690824    0.           8.82504407   0.          72.23019267\n",
      "   3.77538981   0.81202345   0.           0.           0.\n",
      "   5.71886556  10.69175552   0.           0.           1.07717365\n",
      "  64.06297027   0.           0.           0.80105059  51.07684879\n",
      "   9.85618132  20.76917867   0.           0.           3.08972258\n",
      "   0.          21.4250067   33.59532525  17.38342955   0.\n",
      "  59.1293714    0.           0.           0.          13.05774986\n",
      "  54.14395647  27.58338801  13.55288816  15.84695155   3.70278984\n",
      "   0.          12.60533503  21.21828916   0.          53.92710188\n",
      "   0.          18.57733124   0.           4.3965008    5.91213588\n",
      "   6.02647954   0.          22.87462371   0.           0.\n",
      "   0.           0.         110.83554082   0.           0.\n",
      "   0.           0.           6.14261651  11.60263334   1.84876537\n",
      "   0.           6.92427798   0.           0.           0.\n",
      "   2.03793787   0.          40.25474191   0.          44.50434939]\n"
     ]
    }
   ],
   "source": [
    "pricing()"
   ]
  },
  {
   "cell_type": "code",
   "execution_count": null,
   "metadata": {},
   "outputs": [],
   "source": []
  }
 ],
 "metadata": {
  "kernelspec": {
   "display_name": "Python 3",
   "language": "python",
   "name": "python3"
  },
  "language_info": {
   "codemirror_mode": {
    "name": "ipython",
    "version": 3
   },
   "file_extension": ".py",
   "mimetype": "text/x-python",
   "name": "python",
   "nbconvert_exporter": "python",
   "pygments_lexer": "ipython3",
   "version": "3.6.4"
  }
 },
 "nbformat": 4,
 "nbformat_minor": 2
}

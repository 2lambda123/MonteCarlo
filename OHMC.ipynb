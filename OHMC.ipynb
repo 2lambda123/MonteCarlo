{
 "cells": [
  {
   "cell_type": "code",
   "execution_count": 1,
   "metadata": {
    "collapsed": true
   },
   "outputs": [],
   "source": [
    "import numpy as np\n",
    "import scipy as sp"
   ]
  },
  {
   "cell_type": "code",
   "execution_count": 39,
   "metadata": {
    "collapsed": false
   },
   "outputs": [
    {
     "data": {
      "text/plain": [
       "array([1, 2, 3, 4, 5, 6, 7])"
      ]
     },
     "execution_count": 39,
     "metadata": {},
     "output_type": "execute_result"
    }
   ],
   "source": [
    "np.ones((7,1))\n",
    "np.arange(7)+1"
   ]
  },
  {
   "cell_type": "code",
   "execution_count": 33,
   "metadata": {
    "collapsed": false
   },
   "outputs": [
    {
     "data": {
      "text/plain": [
       "array([[ 1.00600146,  1.30606621, -1.28630933],\n",
       "       [-0.49630937,  1.41270871, -0.7851829 ]])"
      ]
     },
     "execution_count": 33,
     "metadata": {},
     "output_type": "execute_result"
    }
   ],
   "source": [
    "random_matrix = np.random.normal(size=(2,3))\n",
    "random_matrix"
   ]
  },
  {
   "cell_type": "code",
   "execution_count": 34,
   "metadata": {
    "collapsed": false
   },
   "outputs": [
    {
     "data": {
      "text/plain": [
       "array([[ 1.00600146,  2.31206767,  1.02575834],\n",
       "       [-0.49630937,  0.91639934,  0.13121644]])"
      ]
     },
     "execution_count": 34,
     "metadata": {},
     "output_type": "execute_result"
    }
   ],
   "source": [
    "random_matrix.cumsum(axis=1)"
   ]
  },
  {
   "cell_type": "code",
   "execution_count": 26,
   "metadata": {
    "collapsed": false
   },
   "outputs": [
    {
     "data": {
      "text/plain": [
       "array([[0, 0, 2, 0, 0, 0, 1],\n",
       "       [0, 1, 4, 1, 4, 2, 4],\n",
       "       [1, 4, 1, 0, 3, 4, 2],\n",
       "       [4, 4, 3, 4, 1, 0, 2],\n",
       "       [4, 2, 4, 1, 1, 3, 3],\n",
       "       [0, 1, 2, 2, 1, 1, 4],\n",
       "       [0, 0, 0, 1, 4, 0, 1]])"
      ]
     },
     "execution_count": 26,
     "metadata": {},
     "output_type": "execute_result"
    }
   ],
   "source": [
    "c = np.ones(7)*2\n",
    "A = np.random.randint(5,size=(7,7))\n",
    "A"
   ]
  },
  {
   "cell_type": "code",
   "execution_count": 29,
   "metadata": {
    "collapsed": false
   },
   "outputs": [
    {
     "data": {
      "text/plain": [
       "array([[0, 2, 2, 0, 0, 0, 1],\n",
       "       [0, 2, 4, 1, 4, 2, 4],\n",
       "       [1, 2, 1, 0, 3, 4, 2],\n",
       "       [4, 2, 3, 4, 1, 0, 2],\n",
       "       [4, 2, 4, 1, 1, 3, 3],\n",
       "       [0, 2, 2, 2, 1, 1, 4],\n",
       "       [0, 2, 0, 1, 4, 0, 1]])"
      ]
     },
     "execution_count": 29,
     "metadata": {},
     "output_type": "execute_result"
    }
   ],
   "source": [
    "A[:,1]=c\n",
    "A"
   ]
  },
  {
   "cell_type": "code",
   "execution_count": 43,
   "metadata": {
    "collapsed": false
   },
   "outputs": [
    {
     "data": {
      "text/plain": [
       "array([[11, 13, 13, 11, 11, 11, 12],\n",
       "       [12, 14, 16, 13, 16, 14, 16],\n",
       "       [14, 15, 14, 13, 16, 17, 15],\n",
       "       [18, 16, 17, 18, 15, 14, 16],\n",
       "       [19, 17, 19, 16, 16, 18, 18],\n",
       "       [16, 18, 18, 18, 17, 17, 20],\n",
       "       [17, 19, 17, 18, 21, 17, 18]])"
      ]
     },
     "execution_count": 43,
     "metadata": {},
     "output_type": "execute_result"
    }
   ],
   "source": [
    "A+np.expand_dims(np.arange(1,8),1)+10"
   ]
  },
  {
   "cell_type": "markdown",
   "metadata": {},
   "source": [
    "$$dS = r S dt + \\sigma S dW_t$$\n",
    "$$log S_{t+1} = log S_t +(r - \\frac{\\sigma^2}{2})\\Delta t + \\sigma \\sqrt{\\Delta t} \\epsilon$$\n",
    "where\n",
    "    $$\\epsilon \\sim N(0,1)$$\n"
   ]
  },
  {
   "cell_type": "code",
   "execution_count": 49,
   "metadata": {
    "collapsed": false
   },
   "outputs": [],
   "source": [
    "class MonteCarlo:\n",
    "    def __init__(self,S0,K,T,r,sigma,underlying_process=\"geometric brownian motion\"):\n",
    "        self.underlying_process = underlying_process\n",
    "        self.S0 = S0\n",
    "        self.K = K\n",
    "        self.T = T\n",
    "        self.r = r\n",
    "        self.sigma = sigma\n",
    "        \n",
    "    def simulate(self, n_trails, n_steps):\n",
    "        dt = self.T/n_steps\n",
    "        if(self.underlying_process==\"geometric brownian motion\"):\n",
    "#             first_step_prices = np.ones((n_trails,1))*np.log(self.S0)\n",
    "            log_price_matrix = np.zeros((n_trails,n_steps))\n",
    "            normal_matrix = np.random.normal(size=(n_trails,n_steps))\n",
    "            cumsum_normal_matrix = normal_matrix.cumsum(axis=1)\n",
    "#             log_price_matrix = np.concatenate((first_step_prices,log_price_matrix),axis=1)\n",
    "            deviation_matrix = cumsum_normal_matrix*self.sigma*np.sqrt(dt) + \\\n",
    "    (self.r-self.sigma**2/2)*dt*np.arange(1,n_steps+1)\n",
    "            log_price_matrix = deviation_matrix+np.log(self.S0)\n",
    "        \n",
    "        return log_price_matrix"
   ]
  },
  {
   "cell_type": "code",
   "execution_count": 50,
   "metadata": {
    "collapsed": true
   },
   "outputs": [],
   "source": [
    "mc = MonteCarlo(10,10,1,0.02,0.3)"
   ]
  },
  {
   "cell_type": "code",
   "execution_count": 53,
   "metadata": {
    "collapsed": false
   },
   "outputs": [],
   "source": [
    "log_price_matrix = mc.simulate(10,100)"
   ]
  },
  {
   "cell_type": "code",
   "execution_count": 62,
   "metadata": {
    "collapsed": false
   },
   "outputs": [
    {
     "data": {
      "text/plain": [
       "array([[ 1,  3,  9],\n",
       "       [ 1,  2,  4],\n",
       "       [ 1,  4, 16],\n",
       "       [ 1,  5, 25],\n",
       "       [ 1,  6, 36]])"
      ]
     },
     "execution_count": 62,
     "metadata": {},
     "output_type": "execute_result"
    }
   ],
   "source": [
    "funcs = [lambda x: x**0, lambda x: x, lambda x: x**2]\n",
    "np.array([func(np.array([3,2,4,5,6])) for func in funcs]).T"
   ]
  },
  {
   "cell_type": "code",
   "execution_count": 65,
   "metadata": {
    "collapsed": false
   },
   "outputs": [
    {
     "data": {
      "text/plain": [
       "array([[ 0,  4,  6,  0,  0,  0,  7],\n",
       "       [ 0,  4, 12,  4, 20, 12, 28],\n",
       "       [ 1,  4,  3,  0, 15, 24, 14],\n",
       "       [ 4,  4,  9, 16,  5,  0, 14],\n",
       "       [ 4,  4, 12,  4,  5, 18, 21],\n",
       "       [ 0,  4,  6,  8,  5,  6, 28],\n",
       "       [ 0,  4,  0,  4, 20,  0,  7]])"
      ]
     },
     "execution_count": 65,
     "metadata": {},
     "output_type": "execute_result"
    }
   ],
   "source": [
    "A*np.array([1,2,3,4,5,6,7])"
   ]
  },
  {
   "cell_type": "code",
   "execution_count": 66,
   "metadata": {
    "collapsed": true
   },
   "outputs": [],
   "source": [
    "def calculate_Q_matrix(log_price_matrix,r,dt,step_k):\n",
    "    func_list = [lambda x: x**0, lambda x: x, lambda x: x**2]\n",
    "    n_trails,n_steps = log_price_matrix.shape\n",
    "    S_k = np.exp(log_price_matrix[:,step_k-1])\n",
    "    S_kp1 = np.exp(log_price_matrix[:,step_k])\n",
    "    DS = np.exp(-r*dt)*S_kp1 - S_k\n",
    "    A = np.array([func(S_k) for func in func_list]).T\n",
    "    B = (np.array([func(S_k) for func in func_list])*DS).T\n",
    "    return np.concatenate((-A,B),axis=1)"
   ]
  },
  {
   "cell_type": "code",
   "execution_count": 67,
   "metadata": {
    "collapsed": false
   },
   "outputs": [
    {
     "data": {
      "text/plain": [
       "array([[-1.00000000e+00, -9.15790484e+00, -8.38672210e+01,\n",
       "        -2.56531772e-01, -2.34929355e+00, -2.15146068e+01],\n",
       "       [-1.00000000e+00, -9.67293515e+00, -9.35656744e+01,\n",
       "         1.17183369e-01,  1.13350712e+00,  1.09643409e+01],\n",
       "       [-1.00000000e+00, -1.19233828e+01, -1.42167057e+02,\n",
       "        -2.16745656e-01, -2.58434142e+00, -3.08140919e+01],\n",
       "       [-1.00000000e+00, -9.08478928e+00, -8.25333963e+01,\n",
       "         1.94703919e-01,  1.76884407e+00,  1.60695757e+01],\n",
       "       [-1.00000000e+00, -9.64688107e+00, -9.30623144e+01,\n",
       "        -8.36758663e-02, -8.07211131e-01, -7.78706978e+00],\n",
       "       [-1.00000000e+00, -8.93009603e+00, -7.97466151e+01,\n",
       "        -8.28285040e-02, -7.39666495e-01, -6.60529283e+00],\n",
       "       [-1.00000000e+00, -1.11720814e+01, -1.24815403e+02,\n",
       "        -2.18108177e-01, -2.43672232e+00, -2.72232601e+01],\n",
       "       [-1.00000000e+00, -1.18236112e+01, -1.39797783e+02,\n",
       "        -3.45416062e-01, -4.08406522e+00, -4.82883994e+01],\n",
       "       [-1.00000000e+00, -1.06192767e+01, -1.12769039e+02,\n",
       "        -3.85204113e-03, -4.09058908e-02, -4.34390974e-01],\n",
       "       [-1.00000000e+00, -9.02596535e+00, -8.14680506e+01,\n",
       "        -1.08741168e-01, -9.81494017e-01, -8.85893099e+00]])"
      ]
     },
     "execution_count": 67,
     "metadata": {},
     "output_type": "execute_result"
    }
   ],
   "source": []
  },
  {
   "cell_type": "code",
   "execution_count": null,
   "metadata": {
    "collapsed": true
   },
   "outputs": [],
   "source": []
  }
 ],
 "metadata": {
  "kernelspec": {
   "display_name": "Python 3",
   "language": "python",
   "name": "python3"
  },
  "language_info": {
   "codemirror_mode": {
    "name": "ipython",
    "version": 3
   },
   "file_extension": ".py",
   "mimetype": "text/x-python",
   "name": "python",
   "nbconvert_exporter": "python",
   "pygments_lexer": "ipython3",
   "version": "3.6.0"
  }
 },
 "nbformat": 4,
 "nbformat_minor": 2
}

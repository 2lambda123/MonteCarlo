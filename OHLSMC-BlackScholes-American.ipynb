{
 "cells": [
  {
   "cell_type": "markdown",
   "metadata": {},
   "source": [
    "# Optimal Hedged Least Square Monte Carlo Simulation\n",
    "\n",
    "Author: Jerry Xia\n",
    "\n",
    "Date: 2018/08/27"
   ]
  },
  {
   "cell_type": "markdown",
   "metadata": {},
   "source": [
    "## 1. Introduction\n",
    "\n",
    "This is a Python Notebook about an inovative method of the Monte Carlo simulation, Optimal Hedged Least Square Monte Carlo (OHLSMC) in order to price and hedge American type options. In this script, I implemented the following variance reduction methods as well as their antithetic variates' version:\n",
    "\n",
    "* regular Monte Carlo\n",
    "* least square Monte Carlo\n",
    "* Monte Carlo with delta-based control variates\n",
    "* optimal hedged Monte Carlo\n",
    "* optimal hedged least square Monte Carlo\n",
    "\n",
    "Due to the significant efficience and robustness, I mainly focus on the optimal hedged least square Monte Carlo (OHLSMC) in option pricing. We invoke this method to price American options and make comparison with the original least square monte carlo (LSM).\n",
    "\n",
    "### 1.1 Facts\n",
    "* The option price is not simply the average value of the discounted future pay-off over the objective (or historical) probability distribution\n",
    "* The requirement of absence of arbitrage opportunities is equivalent to the existence of \"risk-neutral measure\", such that the price is indeed its average discounted future pay-off.\n",
    "* Risk in option trading cannot be eliminated\n",
    "\n",
    "### 1.2 Objective\n",
    "* It would be satisfactory to have an option theory where the objective stochastic process of the underlying is used to calculate the option price, the hedge strategy and the *residual risk*.\n",
    "\n",
    "### 1.3 Advantages\n",
    "* It is a versatile methods to price complicated path-dependent options.\n",
    "* Considerable variance reduction scheme for Monte Carlo\n",
    "* It provide not only a numerical estimate of the option price, but also of the optimal hedge strategy and of the residual risk.\n",
    "* This method does not rely on the notion of risk-neutral measure, and can be used to any model of the true dynamics of the underlying"
   ]
  },
  {
   "cell_type": "markdown",
   "metadata": {},
   "source": [
    "## 2 Underlying dynamics\n",
    "\n",
    "### Black-Scholes Model\n",
    "$$dS = \\mu S dt + \\sigma S dW_t$$\n",
    "$$log S_{t+1} = log S_t +(\\mu - \\frac{\\sigma^2}{2})\\Delta t + \\sigma \\sqrt{\\Delta t} \\epsilon$$\n",
    "where\n",
    "$$\\epsilon \\sim N(0,1)$$\n",
    "In risk neutral measure, $\\mu = r - q$. \n",
    "### Heston Model\n",
    "The basic Heston model assumes that $S_t$, the price of the asset, is determined by a stochastic process:\n",
    "$$\n",
    "dS_t = \\mu S_t dt + \\sqrt{v_t} S_t d W_t^S\\\\\n",
    "dv_t = \\kappa (\\theta - v_t) dt + \\xi \\sqrt{v_t} d W_t^v\n",
    "$$\n",
    "where \n",
    "$$E[dW_t^S,dW_t^v]=\\rho dt$$\n",
    "In risk neutral measure, $\\mu = r - q$. "
   ]
  },
  {
   "cell_type": "markdown",
   "metadata": {},
   "source": [
    "## 3 Methodology\n",
    "\n",
    "### 3.1 Notations\n",
    "Option price always requires to work backward. That is because the option price is known exactly at the maturity. As with other schemes, we determine the option price step by step from the maturity $t=K\\tau=T$ to the present time $t=0$. The unit of time being $\\tau$, for example, one day. We simulate $N$ trajectories. In trajectory i, the price of the underlying asset at time $k\\tau$ is denoted as $S_k^{(i)}$. The price of the derivative at time $k\\tau$ is denoted as $C_k$, and the hedge function is $H_k$. We define an optimal hedged portfolio as\n",
    "$$W_k^{(i)} = C_k(S_k^{(i)}) + H_k(S_k^{(i)})S_k^{(i)}$$\n",
    "The one-step change of our portfolio is\n",
    "$$\\Delta W_k^{(i)}= df(k,k+1) C_{k+1}(S_{k+1}^{(i)}) - C_k(S_k^{(i)}) + H_k(S_{k}^{(i)}) (df2(k,k+1) S_{k+1}^{(i)} - S_{k}^{(i)})$$\n",
    "Where $df(k,k+1)$ is the discounted factor from time $k\\tau$ to $(k+1) \\tau$, $df2(k,k+1)$ is the discounted factor considering dividend $e^{-(r-q)(t_{k+1}-t_k)}$\n",
    "\n",
    "### 3.2 Objective\n",
    "The optimal hedged algorithm can be interpreted as the following optimal problem\n",
    "\n",
    "\\begin{align}\n",
    "\\mbox{minimize}\\quad & \\quad Var[\\Delta W_k]\\\\\n",
    "\\mbox{subject to}\\quad & \\quad E[\\Delta W_k]=0\n",
    "\\end{align}\n",
    "\n",
    "It means we should try to minimize the realized volatility of hedged portfolio while maintaining the expected value of portfolio unchanged.\n",
    "\n",
    "### 3.3 Basis Functions\n",
    "The original optimization is very difficult to solve. Thus we assume a set of basis function and solved it in such subspace. We use $N_C$and $N_H$ to denote the number of basis functions for price and hedge.\n",
    "\n",
    "\\begin{align}\n",
    "C_k(\\cdot) &= \\sum_{i=0}^{N_C} a_{k,i} A_i(\\cdot)\\\\\n",
    "H_k(\\cdot) &= \\sum_{i=0}^{N_H} b_{k,i} B_i(\\cdot)\n",
    "\\end{align}\n",
    "\n",
    "The basis functions $A_i$ and $B_i$ are priori determined and need not to be identical. The coefficients $a_i$ and $b_i$ can be calibrated by solving the optimal problem.\n",
    "\n",
    "### 3.4 Numerical Solution\n",
    "\n",
    "\\begin{align}\n",
    "\\mbox{minimize}\\quad & \\quad \\frac{1}{N} \\sum_{i=1}^N \\Delta W_k^{(i)2}\\\\\n",
    "\\mbox{subject to}\\quad & \\quad \\frac{1}{N} \\sum_{i=1}^N \\Delta W_k^{(i)}=0\n",
    "\\end{align}\n",
    "\n",
    "Denote the discounted forward underlying price change at time $k\\tau$ as\n",
    "\n",
    "$$\\Delta S_k = df2(k,k+1) S_{k+1} - S_k$$\n",
    "\n",
    "Define\n",
    "\n",
    "\\begin{align}\n",
    "Q_k &= \\begin{bmatrix}\n",
    "    -A_{k,1}(S_k^{(1)}) & \\cdots & -A_{k,N_C}(S_k^{(1)}) & B_{k,1}(S_k^{(1)})\\Delta S_k^{(1)}& \\cdots  & B_{k,N_H}(S_k^{(1)})\\Delta S_k^{(1)} \\\\\n",
    "    -A_{k,1}(S_k^{(2)}) & \\cdots & -A_{k,N_C}(S_k^{(2)}) & B_{k,1}(S_k^{(2)})\\Delta S_k^{(2)}& \\cdots  & B_{k,N_H}(S_k^{(1)})\\Delta S_k^{(2)} \\\\\n",
    "    \\vdots & \\vdots & \\vdots & \\vdots & \\vdots & \\vdots\\\\\n",
    "    -A_{k,1}(S_k^{(N)}) & \\cdots & -A_{k,N_C}(S_k^{(N)}) & B_{k,1}(S_k^{(N)})\\Delta S_k^{(N)}& \\cdots  & B_{k,N_H}(S_k^{(N)})\\Delta S_k^{(N)}\n",
    "    \\end{bmatrix}\\\\\\\\\n",
    "c_k &= (a_{k,1}, \\cdots a_{k,N_C}, b_{k,1}, \\cdots, b_{k,N_H})^T\\\\\\\\\n",
    "v_{k} &= df(k,k+1) C_{k+1}(S_{k+1}^{})\n",
    "\\end{align}\n",
    "\n",
    "As for $v_k$, note that we know the exact value at maturity, which means there is no need to approximate price in terms of basis functions, that is\n",
    "\n",
    "\\begin{align}\n",
    "v_k = \\begin{cases}\n",
    "df(N-1,N)\\ payoff(S_N),\\quad & k=N-1\\\\\n",
    "df(k,k+1)\\ \\sum_{i=1}^{N_C} a_{k+1,i} A_i(S_{k+1}), \\quad & 0<k<N-1\\\\\n",
    "df(0,1)\\ C_1(S_1), \\quad & k=0\n",
    "\\end{cases}\n",
    "\\end{align}\n",
    "\n",
    "Then, the optimization problem can be expressed as\n",
    "\n",
    "\\begin{align}\n",
    "\\arg\\min_{c_k}\\quad & \\quad (v_{k} + Q_k c_k)^T (v_{k} + Q_k c_k)\\\\\n",
    "\\mbox{subject to}\\quad & \\quad 1_{[N\\times1]}^T (v_{k}  + Q_k c_k)=0\n",
    "\\end{align}\n",
    "\n",
    "In step k, since we already know the information ($v_{k}$) in step k+1. By canceling the constant term, the optimal problem can be simplified as the following \n",
    "\n",
    "\\begin{align}\n",
    "\\arg\\min_{c_k}\\quad & \\quad 2 v_{k}^T Q_k c_k + c_k^T Q_k^T Q_k c_k\\\\\n",
    "\\mbox{subject to}\\quad & \\quad 1_{[N\\times1]}^T v_{k}  + 1_{[N\\times1]}^T Q_k c_k=0\n",
    "\\end{align}"
   ]
  },
  {
   "cell_type": "markdown",
   "metadata": {},
   "source": [
    "### 3.5 Convex Optimization Problem\n",
    "\n",
    "Let us first review the standard form of linear constrained quadratic programming problem:\n",
    "\n",
    "\\begin{align}\n",
    "    \\min_{x} \\quad & \\frac{1}{2} x^T P x + q^T x\\\\\n",
    "    \\mbox{subject to} \\quad &G x \\preceq h\\\\\n",
    "    &A x = b\n",
    "\\end{align}\n",
    "\n",
    "Note that $x^T$ means the transpose of vector x, and $G x \\preceq h$denotes the inequality is taken element-wise over the vectors $G x$ and $h$. The objective function is convex if and only if the matrix $P$ is positive-semidefinite(Hermitian matrix all of whose eigenvalues are nonnegative), which is the realm we concern with.\n",
    "\n",
    "Recall that the constrained optimization problem:\n",
    "\n",
    "\\begin{align}\n",
    "\\arg\\min_{c_k}\\quad & \\quad  v_{k}^T Q_k c_k + \\frac{1}{2}c_k^T Q_k^T Q_k c_k\\\\\n",
    "\\mbox{subject to}\\quad & \\quad 1_{[N\\times1]}^T v_{k}  + 1_{[N\\times1]}^T Q_k c_k=0\n",
    "\\end{align}\n",
    "\n",
    "Correspondingly, we make the connection by letting\n",
    "\n",
    "\\begin{align}\n",
    "    x &= c_k\\\\\n",
    "    P &= Q_k^T Q_k\\\\\n",
    "    q &= Q_k^T v_k\\\\\n",
    "    A &= 1_{[N\\times1]}^T Q_k\\\\\n",
    "    b &= -1_{[N\\times1]}^T v_{k}\n",
    "\\end{align}\n",
    "\n",
    "The hard work is almost over right now. As you would always find, formulating the problem is usually the hard step. Invoking a solver is straightforward.\n",
    "\n",
    "Note that when $k=0$, the degree of freedom of the quadratic problem decreases to 2. Because here the only concerns are price and hedge at time zero (we don't need to project them into a high dimension space). Let $x=[C_0, H_0]^T$\n",
    "\n",
    "\\begin{align}\n",
    "    Q_0 &= \\begin{bmatrix}\n",
    "    -1 & \\Delta S_0^{(1)}\\\\\n",
    "    \\vdots & \\vdots\\\\\n",
    "    -1 & \\Delta S_0^{(N)}\n",
    "    \\end{bmatrix}\\\\\n",
    "    P &= Q_0^T Q_0\\\\\n",
    "    q &= Q_0^T v_0\\\\\n",
    "    A &= 1_{[N \\times 1]}^T Q_0\\\\\n",
    "    b &= -1_{[N \\times 1]}^T v_0\n",
    "\\end{align}"
   ]
  },
  {
   "cell_type": "markdown",
   "metadata": {},
   "source": [
    "## 4 Variance reduction and other methods\n",
    "The rate of convergence of the Monte Carlo simulation is $O\\left(\\max \\left( \\Delta t, \\frac{1}{N_x} \\right)\\right)$. The variance reduction techniques are used to reduce the constant factor corresponding to the Monte Carlo approximation $O \\left(\\frac{1}{N_x}\\right)$. Some of the most used variance reduction techniques are:\n",
    "\n",
    "* Control Variates\n",
    "* Antithetic Variates\n",
    "* Moment Matching\n",
    "\n",
    "In this part we selected antithetic variates and delta-based control variates methods as a supplement to optimal hedged monte carlo simulation.\n",
    "\n",
    "### 4.1 Antithetic variates\n",
    "The main idea of this technique is to look at the asset equation that you aretrying to simulate:\n",
    "$$d S_t^{(1)} = r S_t^{(1)} dt + \\sigma S_t^{(1)} d W_t$$\n",
    "and recognize that sinceztis a standard Brownian motion so will be−ztandthey will have the same exact distribution.  This means that the equation:\n",
    "$$d S_t^{(2)} = r S_t^{(2)} dt - \\sigma S_t^{(2)} d W_t$$\n",
    "will also generate paths of the same asset.\n",
    "The variance depends on the sign of the covariance of $payoff(S_t^{(1)})$ and $payoff(S_t^{(2)})$. It can increase the eventual variance or decrease it, both case do arise. One sufficient condition to insure variance reduction is the monotony of the payoff function. Then, when using both in the calculation of the final Monte Carlo value the variance of the estimate will be reduced.\n",
    "\n",
    "### 4.2 Delta-based control variates\n",
    "Delta hedging can be summarized succinctly in the following way:  Suppose that at time $t= 0$, we receive $C_0$ the price of an option that pays $C_T$ at time T.  The price of this option at any time $t$ is a function $C(t,S)$. Then, if we hold at any moment in time $\\frac{\\partial C}{\\partial S}(t,S) = \\frac{\\partial C_t}{\\partial S}$ units of stock, then we will be able to replicate the payout of this option $C_T$ at time T. This is in theory since of course we cannot trade continuously. So in practice we perform a partial hedge where we only rebalance at some discrete moments in time say $t_1,t_2,\\cdots,t_N$. The replicating strategy can be expressed as follow:\n",
    "$$W(t_i,S_i) = C(t_0,S_0) e^{r(t_i - t_0)} + \\sum_{j=0}^{i} \\Delta(t_j,S_j) ( S_{j+1} e^{-r(t_{j+1} - t_j )} - S_{j})e^{r(t_i - t_j)} = C(t_i,S_i)$$\n",
    "which is similar to the strategy in the optimal hedged Monte Carlo simulation where the only difference is that in OHMC, we use option and delta hedging to replicate the cash flow and here we do the opposite operation. But when implementing the delta-based control variates, we should move the hedging term to the right hand side which make it identical to the OHMC strategy. Note that here we are assumed to know the delta hedging function. It explains a lot why OHMC can reduce the variance.\n",
    "\n",
    "### 4.3 Optimal hedged Monte Carlo simulation\n",
    "**In conclusion, OHMC is just a control variates method with an optimization on top and it is more practical because we do not have an analytical formula for the hedge sensitivity (i.e. delta, gamma, etc.)**"
   ]
  },
  {
   "cell_type": "markdown",
   "metadata": {},
   "source": [
    "## OHMC couple with Least Square Monte Carlo (LSM)\n",
    "\n",
    "In order to price Amrican type options, we need to consider the problem of optimal exercise. LSM is a well-defined method to tackle this problem. In contrast, here we only utilize the information of exercise points along each simulation path using cross-sectional regression. Different from the original LSM, here we equipe basis functions to approximate price and hedge at each step similar to OHMC. And discuss independently at the inception.\n",
    "\n",
    "This combination create a magic reaction. Now we can not only price the American options but also hedge it! Moreover, it's model independent, model parameters or construction, dimension doesn't matter at all! We use Black-Scholes and Heston model as examples. What only matters is the underlying price trials. With it, we can calculate the following stuffs.\n",
    "\n",
    "* American options price\n",
    "* American options Greeks\n",
    "* American options optimal exercise boundary"
   ]
  },
  {
   "cell_type": "code",
   "execution_count": 1,
   "metadata": {
    "collapsed": false
   },
   "outputs": [],
   "source": [
    "import numpy as np\n",
    "import scipy as sp\n",
    "import scipy.stats\n",
    "from cvxopt import matrix, solvers\n",
    "import binomial"
   ]
  },
  {
   "cell_type": "code",
   "execution_count": 2,
   "metadata": {
    "collapsed": true
   },
   "outputs": [],
   "source": [
    "risk_free_rate = 0.02\n",
    "dividend = 0.0\n",
    "time_to_maturity = 1\n",
    "volatility = 0.3\n",
    "strike = 100\n",
    "stock_price = 100\n",
    "n_trials = 200\n",
    "n_steps = 20\n",
    "func_list = [lambda x: x**0, lambda x: x] # basis for OHMC part\n",
    "option_type = 'p'"
   ]
  },
  {
   "cell_type": "code",
   "execution_count": 3,
   "metadata": {
    "collapsed": false
   },
   "outputs": [
    {
     "data": {
      "text/plain": [
       "10.993769061633683"
      ]
     },
     "execution_count": 3,
     "metadata": {},
     "output_type": "execute_result"
    }
   ],
   "source": [
    "binomial.put(S=stock_price, K=strike, sigma=volatility, r=risk_free_rate,\n",
    "             t=time_to_maturity, div=dividend, n=100, am=True)"
   ]
  },
  {
   "cell_type": "code",
   "execution_count": 4,
   "metadata": {
    "collapsed": false
   },
   "outputs": [
    {
     "data": {
      "text/plain": [
       "10.811910510378405"
      ]
     },
     "execution_count": 4,
     "metadata": {},
     "output_type": "execute_result"
    }
   ],
   "source": [
    "binomial.put(S=stock_price, K=strike, sigma=volatility, r=risk_free_rate,\n",
    "             t=time_to_maturity, div=dividend, n=100, am=False)"
   ]
  },
  {
   "cell_type": "code",
   "execution_count": 5,
   "metadata": {
    "collapsed": true
   },
   "outputs": [],
   "source": [
    "from MonteCarlo import MonteCarlo"
   ]
  },
  {
   "cell_type": "code",
   "execution_count": 6,
   "metadata": {
    "collapsed": true
   },
   "outputs": [],
   "source": [
    "mc = MonteCarlo(stock_price,strike,time_to_maturity,risk_free_rate,dividend,volatility)"
   ]
  },
  {
   "cell_type": "code",
   "execution_count": 7,
   "metadata": {
    "collapsed": false
   },
   "outputs": [
    {
     "data": {
      "text/plain": [
       "10.841448723366952"
      ]
     },
     "execution_count": 7,
     "metadata": {},
     "output_type": "execute_result"
    }
   ],
   "source": [
    "mc.BlackScholesPricer(option_type=option_type) # BS formula for European options"
   ]
  },
  {
   "cell_type": "code",
   "execution_count": 8,
   "metadata": {
    "collapsed": true
   },
   "outputs": [],
   "source": [
    "price_matrix = mc.simulate(n_trials,n_steps)"
   ]
  },
  {
   "cell_type": "code",
   "execution_count": 9,
   "metadata": {
    "collapsed": false
   },
   "outputs": [
    {
     "data": {
      "text/plain": [
       "array([[ 0.,  0.],\n",
       "       [ 0.,  0.]])"
      ]
     },
     "execution_count": 9,
     "metadata": {},
     "output_type": "execute_result"
    }
   ],
   "source": [
    "a = np.zeros((2,5))\n",
    "a[:,3:]"
   ]
  },
  {
   "cell_type": "code",
   "execution_count": 10,
   "metadata": {
    "collapsed": false
   },
   "outputs": [
    {
     "name": "stderr",
     "output_type": "stream",
     "text": [
      "/Users/xiayuxuan/Codes/MonteCarlo/MonteCarlo.py:216: VisibleDeprecationWarning: boolean index did not match indexed array along dimension 0; dimension is 201 but corresponding boolean dimension is 200\n",
      "  b_prime_matrix = b_matrix[ITM_filter, :]\n",
      "/Users/xiayuxuan/Codes/MonteCarlo/MonteCarlo.py:216: VisibleDeprecationWarning: boolean index did not match indexed array along dimension 0; dimension is 216 but corresponding boolean dimension is 200\n",
      "  b_prime_matrix = b_matrix[ITM_filter, :]\n"
     ]
    }
   ],
   "source": [
    "exercise_matrix = mc.LSM2(option_type=option_type,func_list=[lambda x: x**0, lambda x: x, lambda x:x**2])"
   ]
  },
  {
   "cell_type": "code",
   "execution_count": 11,
   "metadata": {
    "collapsed": false
   },
   "outputs": [],
   "source": [
    "exercise_steps = np.where(mc.exercise_matrix==1)[1]\n",
    "exercise_prices = mc.price_matrix[mc.exercise_matrix]"
   ]
  },
  {
   "cell_type": "code",
   "execution_count": 23,
   "metadata": {
    "collapsed": false
   },
   "outputs": [
    {
     "data": {
      "text/plain": [
       "array([  98.40400544,   92.56001326,   84.38821727,  108.24252564,\n",
       "        125.34767247,  152.20973949,   59.72444952,   58.81051643,\n",
       "        124.64241804,  139.70268595,  103.7957669 ,   91.35328601,\n",
       "         89.94816261,   73.36406095,  129.50288345,  108.36109709,\n",
       "        175.62211035,  179.50113455,   60.69476197,  140.71553726,\n",
       "        123.25502652,  150.53714483,   83.48671234,  107.21550401,\n",
       "         89.66522844,   65.44955603,  121.15647908,   73.36922669,\n",
       "         90.7436368 ,  100.10870778,   80.87635431,   95.04817983,\n",
       "         66.43211714,  128.19224369,  102.24051391,  116.93074028,\n",
       "         84.69166386,   94.79928175,   88.64151299,  137.70941205,\n",
       "         85.3825017 ,  113.54187927,   97.96106151,  108.23150093,\n",
       "         82.56040124,   90.68265704,   81.93559877,   88.43903699,\n",
       "         81.64142411,   66.11805063,  123.97941096,   95.65524271,\n",
       "         89.37859548,  107.34095012,  101.21629335,  108.25262845,\n",
       "        119.81861951,   90.7406792 ,  120.38078931,   82.72806764,\n",
       "         98.09773179,  127.43218941,  108.3428641 ,  119.27650923,\n",
       "        137.20370669,  116.02515344,   70.43232915,   96.24909914,\n",
       "        125.69152764,   90.92087801,  109.68057828,   67.75985288,\n",
       "        122.51089711,  129.67638838,   67.32801595,   75.48967196,\n",
       "         59.79456154,   78.23190998,   96.02961037,   82.30428192,\n",
       "        116.03725434,   74.3965131 ,   84.55231909,   94.48181941,\n",
       "        128.91606021,   66.6377044 ,   69.89485426,   86.42982106,\n",
       "        134.85907973,  125.49128899,  164.47143952,  102.20616698,\n",
       "        119.366299  ,   74.33296809,  136.01998634,  115.37293051,\n",
       "         94.17954619,   90.91065345,  132.1556487 ,   81.38014719,\n",
       "        133.69584125,   80.55940625,   82.08633434,  102.67186566,\n",
       "         79.90892064,   80.4030801 ,  125.0532448 ,   59.56944086,\n",
       "        113.93912926,  122.29184011,  146.31196732,  163.79849447,\n",
       "        130.38709445,   82.61305405,  122.42307824,   73.77028793,\n",
       "         83.35727336,   97.8462567 ,  111.96432151,   79.06247509,\n",
       "         87.82492756,  125.17931206,  112.8680367 ,   81.04502137,\n",
       "         96.51776674,   42.01082588,  105.23374082,   89.84250339,\n",
       "         71.08656253,  120.86334218,  110.18003021,   91.96444375,\n",
       "         98.84274748,   65.18088217,   52.09349287,   86.62622658,\n",
       "        138.08254979,   98.99918491,   57.74294904,  132.31982832,\n",
       "         97.48912451,  110.19562105,  112.92883612,  115.35675016,\n",
       "        117.89043939,  106.96934156,  128.01393625,  107.95138858,\n",
       "         74.49693433,  128.6085007 ,  107.86040574,   93.02005839,\n",
       "        102.43357596,   97.66707589,  117.71609645,  162.7539822 ,\n",
       "         96.08670183,  121.87527306,  134.10618874,   78.83767604,\n",
       "         97.22259025,   88.47106301,  101.48366233,   60.55508263,\n",
       "         83.16402171,   92.91314688,   55.18927071,  114.2891584 ,\n",
       "         90.77797115,  115.55029395,   73.06182351,   97.11047107,\n",
       "        175.3893768 ,   93.5173711 ,   59.75437656,   64.73864673,\n",
       "         89.94719359,  129.23428946,   86.27693977,   78.70339126,\n",
       "         77.42127597,   95.67141619,  140.80170201,  135.40484936,\n",
       "        178.5101939 ,  128.58975379,  104.64654269,  125.41746864,\n",
       "         57.93964795,   77.18538416,   71.35689596,  104.12140969,\n",
       "        131.1444981 ,  129.74870646,  108.80426797,   88.38545928,\n",
       "        167.49511917,   68.27148647,   84.29993636,  111.73956578])"
      ]
     },
     "execution_count": 23,
     "metadata": {},
     "output_type": "execute_result"
    }
   ],
   "source": [
    "mc.price_matrix[np.where(mc.exercise_matrix==1)]"
   ]
  },
  {
   "cell_type": "code",
   "execution_count": 13,
   "metadata": {
    "collapsed": false
   },
   "outputs": [],
   "source": [
    "import matplotlib.pyplot as plt"
   ]
  },
  {
   "cell_type": "code",
   "execution_count": 14,
   "metadata": {
    "collapsed": false
   },
   "outputs": [
    {
     "data": {
      "image/png": "[encoded data removed]",
      "text/plain": [
       "<matplotlib.figure.Figure at 0x1110ad7b8>"
      ]
     },
     "metadata": {},
     "output_type": "display_data"
    }
   ],
   "source": [
    "exercise_steps = np.where(mc.exercise_matrix==1)[1]\n",
    "exercise_prices = mc.price_matrix[mc.exercise_matrix]\n",
    "step_list = []\n",
    "boundary_list = []\n",
    "for i in range(1,n_steps+1):\n",
    "    if (exercise_steps==i).any():\n",
    "        step_list.append(i)\n",
    "        boundary = exercise_prices[np.where(exercise_steps==i)].mean()\n",
    "        boundary_list.append(boundary)\n",
    "        \n",
    "    \n",
    "plt.scatter(step_list,boundary_list)\n",
    "plt.show()"
   ]
  },
  {
   "cell_type": "code",
   "execution_count": 15,
   "metadata": {
    "collapsed": false
   },
   "outputs": [],
   "source": [
    "# import xlwings as xl\n",
    "# xl.view(mc.price_matrix*mc.holding_matrix)"
   ]
  },
  {
   "cell_type": "code",
   "execution_count": 16,
   "metadata": {
    "collapsed": false
   },
   "outputs": [
    {
     "data": {
      "text/plain": [
       "9.5866516492250078"
      ]
     },
     "execution_count": 16,
     "metadata": {},
     "output_type": "execute_result"
    }
   ],
   "source": [
    "mc.MCPricer(option_type=option_type,isAmerican=True) # LSM for American options"
   ]
  },
  {
   "cell_type": "code",
   "execution_count": 17,
   "metadata": {
    "collapsed": false
   },
   "outputs": [
    {
     "data": {
      "text/plain": [
       "9.8725852461595025"
      ]
     },
     "execution_count": 17,
     "metadata": {},
     "output_type": "execute_result"
    }
   ],
   "source": [
    "mc.MCPricer(option_type=option_type,isAmerican=False) # original MC for European options"
   ]
  },
  {
   "cell_type": "code",
   "execution_count": 18,
   "metadata": {
    "collapsed": false
   },
   "outputs": [
    {
     "data": {
      "text/plain": [
       "-0.0"
      ]
     },
     "execution_count": 18,
     "metadata": {},
     "output_type": "execute_result"
    }
   ],
   "source": [
    "mc.american_values_matrix[0,0]"
   ]
  },
  {
   "cell_type": "code",
   "execution_count": 19,
   "metadata": {
    "collapsed": false
   },
   "outputs": [
    {
     "data": {
      "text/plain": [
       "9.231248553954757"
      ]
     },
     "execution_count": 19,
     "metadata": {},
     "output_type": "execute_result"
    }
   ],
   "source": [
    "mc.OHMCPricer(option_type=option_type,isAmerican=True) # OHLSM for American options"
   ]
  },
  {
   "cell_type": "code",
   "execution_count": 20,
   "metadata": {
    "collapsed": false
   },
   "outputs": [
    {
     "data": {
      "text/plain": [
       "9.406755892307462"
      ]
     },
     "execution_count": 20,
     "metadata": {},
     "output_type": "execute_result"
    }
   ],
   "source": [
    "mc.OHMCPricer(option_type=option_type,isAmerican=False) # OHLSM for European options"
   ]
  },
  {
   "cell_type": "code",
   "execution_count": 21,
   "metadata": {
    "collapsed": false
   },
   "outputs": [
    {
     "data": {
      "text/plain": [
       "False"
      ]
     },
     "execution_count": 21,
     "metadata": {},
     "output_type": "execute_result"
    }
   ],
   "source": [
    "(mc.price_matrix<0).any() # Sanity check"
   ]
  },
  {
   "cell_type": "code",
   "execution_count": 22,
   "metadata": {
    "collapsed": false
   },
   "outputs": [
    {
     "data": {
      "text/plain": [
       "array([[ True,  True,  True, ...,  True,  True,  True],\n",
       "       [ True,  True,  True, ...,  True,  True,  True],\n",
       "       [ True,  True,  True, ...,  True,  True,  True],\n",
       "       ..., \n",
       "       [ True,  True,  True, ...,  True,  True,  True],\n",
       "       [ True,  True,  True, ...,  True,  True,  True],\n",
       "       [ True,  True,  True, ...,  True,  True,  True]], dtype=bool)"
      ]
     },
     "execution_count": 22,
     "metadata": {},
     "output_type": "execute_result"
    }
   ],
   "source": [
    "mc.holding_matrix"
   ]
  },
  {
   "cell_type": "code",
   "execution_count": null,
   "metadata": {
    "collapsed": true
   },
   "outputs": [],
   "source": []
  }
 ],
 "metadata": {
  "kernelspec": {
   "display_name": "Python 3",
   "language": "python",
   "name": "python3"
  },
  "language_info": {
   "codemirror_mode": {
    "name": "ipython",
    "version": 3
   },
   "file_extension": ".py",
   "mimetype": "text/x-python",
   "name": "python",
   "nbconvert_exporter": "python",
   "pygments_lexer": "ipython3",
   "version": "3.6.0"
  }
 },
 "nbformat": 4,
 "nbformat_minor": 2
}

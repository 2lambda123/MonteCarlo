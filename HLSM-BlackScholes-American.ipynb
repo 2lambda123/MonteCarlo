{
 "cells": [
  {
   "cell_type": "markdown",
   "metadata": {},
   "source": [
    "# How to Price and Hedge American Options Using Regression-based Methods\n",
    "\n",
    "## Hedged Least Square Method\n",
    "\n",
    "Author: Jerry Xia\n",
    "\n",
    "Date: 2018/08/27"
   ]
  },
  {
   "cell_type": "markdown",
   "metadata": {},
   "source": [
    "## 1. Introduction\n",
    "\n",
    "This is a Python Notebook about an inovative method of the Monte Carlo simulation, Hedged Least Square Method (HLSM) in order to price and hedge American type options. In this script, I implemented the following variance reduction methods as well as their antithetic variates' version:\n",
    "\n",
    "* regular Monte Carlo for European options\n",
    "* least square Monte Carlo for American options\n",
    "* Monte Carlo with delta-based control variates for European options\n",
    "* optimal hedged Monte Carlo for European options\n",
    "* hedged least square Monte Carlo for American options\n",
    "\n",
    "Due to the significant efficience and robustness, I mainly focus on the optimal hedged least square Monte Carlo (OHLSMC) in option pricing. We invoke this method to price American options and make comparison with the original least square monte carlo (LSM).\n",
    "\n",
    "### 1.1 Facts\n",
    "* The option price is not simply the average value of the discounted future pay-off over the objective (or historical) probability distribution\n",
    "* The requirement of absence of arbitrage opportunities is equivalent to the existence of \"risk-neutral measure\", such that the price is indeed its average discounted future pay-off.\n",
    "* Risk in option trading cannot be eliminated\n",
    "\n",
    "### 1.2 Objective\n",
    "* It would be satisfactory to have an option theory where the objective stochastic process of the underlying is used to calculate the option price, the hedge strategy and the *residual risk*.\n",
    "\n",
    "### 1.3 Advantages\n",
    "* It is a versatile methods to price complicated path-dependent options.\n",
    "* Considerable variance reduction scheme for Monte Carlo\n",
    "* It provide not only a numerical estimate of the option price, but also of the optimal hedge strategy and of the residual risk.\n",
    "* This method does not rely on the notion of risk-neutral measure, and can be used to any model of the true dynamics of the underlying"
   ]
  },
  {
   "cell_type": "markdown",
   "metadata": {},
   "source": [
    "## 2 Underlying dynamics\n",
    "\n",
    "### Black-Scholes Model\n",
    "$$dS = \\mu S dt + \\sigma S dW_t$$\n",
    "$$log S_{t+1} = log S_t +(\\mu - \\frac{\\sigma^2}{2})\\Delta t + \\sigma \\sqrt{\\Delta t} \\epsilon$$\n",
    "where\n",
    "$$\\epsilon \\sim N(0,1)$$\n",
    "In risk neutral measure, $\\mu = r - q$. \n",
    "### Heston Model\n",
    "The basic Heston model assumes that $S_t$, the price of the asset, is determined by a stochastic process:\n",
    "$$\n",
    "dS_t = \\mu S_t dt + \\sqrt{v_t} S_t d W_t^S\\\\\n",
    "dv_t = \\kappa (\\theta - v_t) dt + \\xi \\sqrt{v_t} d W_t^v\n",
    "$$\n",
    "where \n",
    "$$E[dW_t^S,dW_t^v]=\\rho dt$$\n",
    "In risk neutral measure, $\\mu = r - q$. "
   ]
  },
  {
   "cell_type": "markdown",
   "metadata": {},
   "source": [
    "## 3 Methodology\n",
    "\n",
    "### 3.1 Notations\n",
    "Option price always requires to work backward. That is because the option price is known exactly at the maturity. As with other schemes, we determine the option price step by step from the maturity $t=K\\tau=T$ to the present time $t=0$. The unit of time being $\\tau$, for example, one day. We simulate $N$ trajectories. In trajectory i, the price of the underlying asset at time $k\\tau$ is denoted as $S_k^{(i)}$. The price of the derivative at time $k\\tau$ is denoted as $C_k$, and the hedge function is $H_k$. We define an optimal hedged portfolio as\n",
    "$$W_k^{(i)} = C_k(S_k^{(i)}) + H_k(S_k^{(i)})S_k^{(i)}$$\n",
    "The one-step change of our portfolio is\n",
    "$$\\Delta W_k^{(i)}= df(k,k+1) C_{k+1}(S_{k+1}^{(i)}) - C_k(S_k^{(i)}) + H_k(S_{k}^{(i)}) (df2(k,k+1) S_{k+1}^{(i)} - S_{k}^{(i)})$$\n",
    "Where $df(k,k+1)$ is the discounted factor from time $k\\tau$ to $(k+1) \\tau$, $df2(k,k+1)$ is the discounted factor considering dividend $e^{-(r-q)(t_{k+1}-t_k)}$\n",
    "\n",
    "### 3.2 Objective\n",
    "The optimal hedged algorithm can be interpreted as the following optimal problem\n",
    "\n",
    "\\begin{align}\n",
    "\\mbox{minimize}\\quad & \\quad Var[\\Delta W_k]\\\\\n",
    "\\mbox{subject to}\\quad & \\quad E[\\Delta W_k]=0\n",
    "\\end{align}\n",
    "\n",
    "It means we should try to minimize the realized volatility of hedged portfolio while maintaining the expected value of portfolio unchanged.\n",
    "\n",
    "### 3.3 Basis Functions\n",
    "The original optimization is very difficult to solve. Thus we assume a set of basis function and solved it in such subspace. We use $N_C$and $N_H$ to denote the number of basis functions for price and hedge.\n",
    "\n",
    "\\begin{align}\n",
    "C_k(\\cdot) &= \\sum_{i=0}^{N_C} a_{k,i} A_i(\\cdot)\\\\\n",
    "H_k(\\cdot) &= \\sum_{i=0}^{N_H} b_{k,i} B_i(\\cdot)\n",
    "\\end{align}\n",
    "\n",
    "The basis functions $A_i$ and $B_i$ are priori determined and need not to be identical. The coefficients $a_i$ and $b_i$ can be calibrated by solving the optimal problem.\n",
    "\n",
    "### 3.4 Numerical Solution\n",
    "\n",
    "\\begin{align}\n",
    "\\mbox{minimize}\\quad & \\quad \\frac{1}{N} \\sum_{i=1}^N \\Delta W_k^{(i)2}\\\\\n",
    "\\mbox{subject to}\\quad & \\quad \\frac{1}{N} \\sum_{i=1}^N \\Delta W_k^{(i)}=0\n",
    "\\end{align}\n",
    "\n",
    "Denote the discounted forward underlying price change at time $k\\tau$ as\n",
    "\n",
    "$$\\Delta S_k = df2(k,k+1) S_{k+1} - S_k$$\n",
    "\n",
    "Define\n",
    "\n",
    "\\begin{align}\n",
    "Q_k &= \\begin{bmatrix}\n",
    "    -A_{k,1}(S_k^{(1)}) & \\cdots & -A_{k,N_C}(S_k^{(1)}) & B_{k,1}(S_k^{(1)})\\Delta S_k^{(1)}& \\cdots  & B_{k,N_H}(S_k^{(1)})\\Delta S_k^{(1)} \\\\\n",
    "    -A_{k,1}(S_k^{(2)}) & \\cdots & -A_{k,N_C}(S_k^{(2)}) & B_{k,1}(S_k^{(2)})\\Delta S_k^{(2)}& \\cdots  & B_{k,N_H}(S_k^{(1)})\\Delta S_k^{(2)} \\\\\n",
    "    \\vdots & \\vdots & \\vdots & \\vdots & \\vdots & \\vdots\\\\\n",
    "    -A_{k,1}(S_k^{(N)}) & \\cdots & -A_{k,N_C}(S_k^{(N)}) & B_{k,1}(S_k^{(N)})\\Delta S_k^{(N)}& \\cdots  & B_{k,N_H}(S_k^{(N)})\\Delta S_k^{(N)}\n",
    "    \\end{bmatrix}\\\\\\\\\n",
    "c_k &= (a_{k,1}, \\cdots a_{k,N_C}, b_{k,1}, \\cdots, b_{k,N_H})^T\\\\\\\\\n",
    "v_{k} &= df(k,k+1) C_{k+1}(S_{k+1}^{})\n",
    "\\end{align}\n",
    "\n",
    "As for $v_k$, note that we know the exact value at maturity, which means there is no need to approximate price in terms of basis functions, that is\n",
    "\n",
    "\\begin{align}\n",
    "v_k = \\begin{cases}\n",
    "df(N-1,N)\\ payoff(S_N),\\quad & k=N-1\\\\\n",
    "df(k,k+1)\\ \\sum_{i=1}^{N_C} a_{k+1,i} A_i(S_{k+1}), \\quad & 0<k<N-1\\\\\n",
    "df(0,1)\\ C_1(S_1), \\quad & k=0\n",
    "\\end{cases}\n",
    "\\end{align}\n",
    "\n",
    "Then, the optimization problem can be expressed as\n",
    "\n",
    "\\begin{align}\n",
    "\\arg\\min_{c_k}\\quad & \\quad (v_{k} + Q_k c_k)^T (v_{k} + Q_k c_k)\\\\\n",
    "\\mbox{subject to}\\quad & \\quad 1_{[N\\times1]}^T (v_{k}  + Q_k c_k)=0\n",
    "\\end{align}\n",
    "\n",
    "In step k, since we already know the information ($v_{k}$) in step k+1. By canceling the constant term, the optimal problem can be simplified as the following \n",
    "\n",
    "\\begin{align}\n",
    "\\arg\\min_{c_k}\\quad & \\quad 2 v_{k}^T Q_k c_k + c_k^T Q_k^T Q_k c_k\\\\\n",
    "\\mbox{subject to}\\quad & \\quad 1_{[N\\times1]}^T v_{k}  + 1_{[N\\times1]}^T Q_k c_k=0\n",
    "\\end{align}"
   ]
  },
  {
   "cell_type": "markdown",
   "metadata": {},
   "source": [
    "### 3.5 Convex Optimization Problem\n",
    "\n",
    "Let us first review the standard form of linear constrained quadratic programming problem:\n",
    "\n",
    "\\begin{align}\n",
    "    \\min_{x} \\quad & \\frac{1}{2} x^T P x + q^T x\\\\\n",
    "    \\mbox{subject to} \\quad &G x \\preceq h\\\\\n",
    "    &A x = b\n",
    "\\end{align}\n",
    "\n",
    "Note that $x^T$ means the transpose of vector x, and $G x \\preceq h$denotes the inequality is taken element-wise over the vectors $G x$ and $h$. The objective function is convex if and only if the matrix $P$ is positive-semidefinite(Hermitian matrix all of whose eigenvalues are nonnegative), which is the realm we concern with.\n",
    "\n",
    "Recall that the constrained optimization problem:\n",
    "\n",
    "\\begin{align}\n",
    "\\arg\\min_{c_k}\\quad & \\quad  v_{k}^T Q_k c_k + \\frac{1}{2}c_k^T Q_k^T Q_k c_k\\\\\n",
    "\\mbox{subject to}\\quad & \\quad 1_{[N\\times1]}^T v_{k}  + 1_{[N\\times1]}^T Q_k c_k=0\n",
    "\\end{align}\n",
    "\n",
    "Correspondingly, we make the connection by letting\n",
    "\n",
    "\\begin{align}\n",
    "    x &= c_k\\\\\n",
    "    P &= Q_k^T Q_k\\\\\n",
    "    q &= Q_k^T v_k\\\\\n",
    "    A &= 1_{[N\\times1]}^T Q_k\\\\\n",
    "    b &= -1_{[N\\times1]}^T v_{k}\n",
    "\\end{align}\n",
    "\n",
    "The hard work is almost over right now. As you would always find, formulating the problem is usually the hard step. Invoking a solver is straightforward.\n",
    "\n",
    "Note that when $k=0$, the degree of freedom of the quadratic problem decreases to 2. Because here the only concerns are price and hedge at time zero (we don't need to project them into a high dimension space). Let $x=[C_0, H_0]^T$\n",
    "\n",
    "\\begin{align}\n",
    "    Q_0 &= \\begin{bmatrix}\n",
    "    -1 & \\Delta S_0^{(1)}\\\\\n",
    "    \\vdots & \\vdots\\\\\n",
    "    -1 & \\Delta S_0^{(N)}\n",
    "    \\end{bmatrix}\\\\\n",
    "    P &= Q_0^T Q_0\\\\\n",
    "    q &= Q_0^T v_0\\\\\n",
    "    A &= 1_{[N \\times 1]}^T Q_0\\\\\n",
    "    b &= -1_{[N \\times 1]}^T v_0\n",
    "\\end{align}"
   ]
  },
  {
   "cell_type": "markdown",
   "metadata": {},
   "source": [
    "## 4 Variance reduction and other methods\n",
    "The rate of convergence of the Monte Carlo simulation is $O\\left(\\max \\left( \\Delta t, \\frac{1}{N_x} \\right)\\right)$. The variance reduction techniques are used to reduce the constant factor corresponding to the Monte Carlo approximation $O \\left(\\frac{1}{N_x}\\right)$. Some of the most used variance reduction techniques are:\n",
    "\n",
    "* Control Variates\n",
    "* Antithetic Variates\n",
    "* Moment Matching\n",
    "\n",
    "In this part we selected antithetic variates and delta-based control variates methods as a supplement to optimal hedged monte carlo simulation.\n",
    "\n",
    "### 4.1 Antithetic variates\n",
    "The main idea of this technique is to look at the asset equation that you aretrying to simulate:\n",
    "$$d S_t^{(1)} = r S_t^{(1)} dt + \\sigma S_t^{(1)} d W_t$$\n",
    "and recognize that sinceztis a standard Brownian motion so will be−ztandthey will have the same exact distribution.  This means that the equation:\n",
    "$$d S_t^{(2)} = r S_t^{(2)} dt - \\sigma S_t^{(2)} d W_t$$\n",
    "will also generate paths of the same asset.\n",
    "The variance depends on the sign of the covariance of $payoff(S_t^{(1)})$ and $payoff(S_t^{(2)})$. It can increase the eventual variance or decrease it, both case do arise. One sufficient condition to insure variance reduction is the monotony of the payoff function. Then, when using both in the calculation of the final Monte Carlo value the variance of the estimate will be reduced.\n",
    "\n",
    "### 4.2 Delta-based control variates\n",
    "Delta hedging can be summarized succinctly in the following way:  Suppose that at time $t= 0$, we receive $C_0$ the price of an option that pays $C_T$ at time T.  The price of this option at any time $t$ is a function $C(t,S)$. Then, if we hold at any moment in time $\\frac{\\partial C}{\\partial S}(t,S) = \\frac{\\partial C_t}{\\partial S}$ units of stock, then we will be able to replicate the payout of this option $C_T$ at time T. This is in theory since of course we cannot trade continuously. So in practice we perform a partial hedge where we only rebalance at some discrete moments in time say $t_1,t_2,\\cdots,t_N$. The replicating strategy can be expressed as follow:\n",
    "$$W(t_i,S_i) = C(t_0,S_0) e^{r(t_i - t_0)} + \\sum_{j=0}^{i} \\Delta(t_j,S_j) ( S_{j+1} e^{-r(t_{j+1} - t_j )} - S_{j})e^{r(t_i - t_j)} = C(t_i,S_i)$$\n",
    "which is similar to the strategy in the optimal hedged Monte Carlo simulation where the only difference is that in OHMC, we use option and delta hedging to replicate the cash flow and here we do the opposite operation. But when implementing the delta-based control variates, we should move the hedging term to the right hand side which make it identical to the OHMC strategy. Note that here we are assumed to know the delta hedging function. It explains a lot why OHMC can reduce the variance.\n",
    "\n",
    "### 4.3 Optimal hedged Monte Carlo simulation\n",
    "**In conclusion, OHMC is just a control variates method with an optimization on top and it is more practical because we do not have an analytical formula for the hedge sensitivity (i.e. delta, gamma, etc.)**"
   ]
  },
  {
   "cell_type": "markdown",
   "metadata": {},
   "source": [
    "## 5 Add Hedging portfolio with the Least Square Monte Carlo (LSM)\n",
    "\n",
    "In order to price Amrican type options, we need to consider the problem of optimal exercise. LSM is a well-defined method to tackle this problem. In contrast, here we only utilize the information of exercise points along each simulation path using cross-sectional regression. Different from the original LSM, here we equipe basis functions to approximate price and hedge at each step similar to OHMC. And discuss independently at the inception.\n",
    "\n",
    "This combination create a magic reaction. Now we can not only price the American options but also hedge it! Moreover, it's model independent, model parameters or construction, dimension doesn't matter at all! We use Black-Scholes and Heston model as examples. What only matters is the underlying price trials. With it, we can calculate the following stuffs.\n",
    "\n",
    "* American options price\n",
    "* American options Greeks\n",
    "* American options optimal exercise boundary\n",
    "\n",
    "Here, Bouchard and Warin concluded two main dynamic strategy in American options pricing, A1 and A2. Besides, I equiped them with a hedging strategy:\n",
    "\n",
    "### 5.1 A1 strategy with optimal exercise time estimate\n",
    "\n",
    "* Initialization: $\\tau(t_J) = T$\n",
    "* Backward induction: \n",
    "* $\\tau(t_j) = t_j \\mathbf{1}_{\\{g(t_j)\\geq C(t_j)\\}} + \\tau(t_{j+1})\\mathbf{1}_{\\{Z(t_j)<C(t_j)\\}}$\n",
    "* Price estimator at 0:$P_0 = E[g(\\tau(t_0),X_{\\tau(t_0)})]$\n",
    "\n",
    "\n",
    "### 5.3 A2 strategy with American values estimate\n",
    "\n",
    "* Initialization: $P_T = g(T,X_T)$\n",
    "* Backward induction: $P_{t_j} = max\\{g(t_j,X_{t_j}),E[P_{t_{j+1}}]\\}$\n",
    "* Price estimator at 0: $P_0$\n",
    "\n",
    "### 5.2 A2b strategy with optimal exercise time estimate and American values estimate\n",
    "\n",
    "* Initialization: $\\tau(t_J) = T$\n",
    "* Backward induction: \n",
    "    * $\\tau(t_j) = t_j \\mathbf{1}_{\\{g(t_j)\\geq C(t_j)\\}} + \\tau(t_{j+1})\\mathbf{1}_{\\{Z(t_j)<C(t_j)\\}}$\n",
    "    * Price estimator at j:$P_j = E[g(\\tau(t_j),X_{\\tau(t_j)})]$ for $j=J,J-1,\\cdots,1$\n",
    "* Price estimator at 0 (one-step hedged MC): ${arg\\,min}_{P_0,H_0} E[(\\Delta W_0)^2]$"
   ]
  },
  {
   "cell_type": "code",
   "execution_count": 1,
   "metadata": {
    "collapsed": true
   },
   "outputs": [],
   "source": [
    "import numpy as np\n",
    "import scipy as sp\n",
    "import scipy.stats\n",
    "from cvxopt import matrix, solvers\n",
    "import binomial\n",
    "import matplotlib.pyplot as plt\n",
    "import pandas as pd"
   ]
  },
  {
   "cell_type": "code",
   "execution_count": 2,
   "metadata": {
    "collapsed": true
   },
   "outputs": [],
   "source": [
    "from MonteCarlo import MonteCarlo"
   ]
  },
  {
   "cell_type": "code",
   "execution_count": 3,
   "metadata": {
    "collapsed": true
   },
   "outputs": [],
   "source": [
    "risk_free_rate = 0.06\n",
    "dividend = 0.0\n",
    "time_to_maturity = 1\n",
    "volatility = 0.3\n",
    "strike = 1.1\n",
    "stock_price = 1\n",
    "n_trials = 400\n",
    "n_steps = 20\n",
    "func_list = [lambda x: x**0, lambda x: x] # basis for OHMC part\n",
    "option_type = 'p'"
   ]
  },
  {
   "cell_type": "code",
   "execution_count": 26,
   "metadata": {
    "collapsed": false
   },
   "outputs": [
    {
     "data": {
      "text/plain": [
       "0.15262237404048512"
      ]
     },
     "execution_count": 26,
     "metadata": {},
     "output_type": "execute_result"
    }
   ],
   "source": [
    "binomial.put(S=stock_price, K=strike, sigma=volatility, r=risk_free_rate,\n",
    "             t=time_to_maturity, div=dividend, n=n_steps, am=True)"
   ]
  },
  {
   "cell_type": "code",
   "execution_count": 27,
   "metadata": {
    "collapsed": false
   },
   "outputs": [
    {
     "data": {
      "text/plain": [
       "0.1409834432994072"
      ]
     },
     "execution_count": 27,
     "metadata": {},
     "output_type": "execute_result"
    }
   ],
   "source": [
    "binomial.put(S=stock_price, K=strike, sigma=volatility, r=risk_free_rate,\n",
    "             t=time_to_maturity, div=dividend, n=n_steps, am=False)"
   ]
  },
  {
   "cell_type": "code",
   "execution_count": 29,
   "metadata": {
    "collapsed": true
   },
   "outputs": [],
   "source": [
    "mc = MonteCarlo(stock_price,strike,time_to_maturity,risk_free_rate,dividend,volatility)"
   ]
  },
  {
   "cell_type": "code",
   "execution_count": 30,
   "metadata": {
    "collapsed": false
   },
   "outputs": [
    {
     "data": {
      "text/plain": [
       "0.14018199152981647"
      ]
     },
     "execution_count": 30,
     "metadata": {},
     "output_type": "execute_result"
    }
   ],
   "source": [
    "mc.BlackScholesPricer(option_type=option_type) # BS formula for European options"
   ]
  },
  {
   "cell_type": "code",
   "execution_count": 31,
   "metadata": {
    "collapsed": false
   },
   "outputs": [
    {
     "data": {
      "text/plain": [
       "-0.48711664358348156"
      ]
     },
     "execution_count": 31,
     "metadata": {},
     "output_type": "execute_result"
    }
   ],
   "source": [
    "mc.BSDelta"
   ]
  },
  {
   "cell_type": "code",
   "execution_count": 32,
   "metadata": {
    "collapsed": true
   },
   "outputs": [],
   "source": [
    "price_matrix = mc.simulate(n_trials,n_steps)"
   ]
  },
  {
   "cell_type": "code",
   "execution_count": 33,
   "metadata": {
    "collapsed": true
   },
   "outputs": [],
   "source": [
    "# # Sanity check\n",
    "# price_matrix = [[1,1.09,1.08,1.34],\n",
    "#                [1,1.16,1.26,1.54],\n",
    "#                [1,1.22,1.07,1.03],\n",
    "#                [1,0.93,0.97,0.92],\n",
    "#                [1,1.11,1.56,1.52],\n",
    "#                [1,0.76,0.77,0.90],\n",
    "#                [1,0.92,0.84,1.01],\n",
    "#                [1,0.88,1.22,1.34]]\n",
    "# price_matrix = np.array(price_matrix)\n",
    "# mc.price_matrix = price_matrix"
   ]
  },
  {
   "cell_type": "code",
   "execution_count": 34,
   "metadata": {
    "collapsed": true
   },
   "outputs": [],
   "source": [
    "# mc.LSM3(option_type=option_type,func_list=[lambda x: x**0, lambda x: x],onlyITM=False,buy_cost=0.0,sell_cost=0.0)"
   ]
  },
  {
   "cell_type": "code",
   "execution_count": 35,
   "metadata": {
    "collapsed": false
   },
   "outputs": [
    {
     "name": "stdout",
     "output_type": "stream",
     "text": [
      "price: 0.15106104051425842, delta-hedge: 0.44849620415068886\n"
     ]
    }
   ],
   "source": [
    "mc.LSM(option_type=option_type,func_list=[lambda x: x**0, lambda x: x],onlyITM=False,buy_cost=0.0,sell_cost=0.0)"
   ]
  },
  {
   "cell_type": "code",
   "execution_count": 15,
   "metadata": {
    "collapsed": true
   },
   "outputs": [],
   "source": [
    "# mc.LSM2(option_type=option_type,func_list=[lambda x: x**0, lambda x: x],buy_cost=0.0,sell_cost=0.0)"
   ]
  },
  {
   "cell_type": "code",
   "execution_count": 13,
   "metadata": {
    "collapsed": true
   },
   "outputs": [],
   "source": [
    "# mc.LSM(option_type=option_type,func_list=[lambda x: x**0, lambda x: x],onlyITM=False,buy_cost=0.05,sell_cost=0.08)"
   ]
  },
  {
   "cell_type": "code",
   "execution_count": 14,
   "metadata": {
    "collapsed": true
   },
   "outputs": [],
   "source": [
    "# mc.american_values_matrix,mc.price_matrix,mc.exercise_matrix"
   ]
  },
  {
   "cell_type": "code",
   "execution_count": 42,
   "metadata": {
    "collapsed": false
   },
   "outputs": [
    {
     "data": {
      "text/plain": [
       "0.1499380767008969"
      ]
     },
     "execution_count": 42,
     "metadata": {},
     "output_type": "execute_result"
    }
   ],
   "source": [
    "mc.MCPricer(option_type=option_type,isAmerican=True) # LSM for American options"
   ]
  },
  {
   "cell_type": "code",
   "execution_count": 43,
   "metadata": {
    "collapsed": false
   },
   "outputs": [
    {
     "data": {
      "text/plain": [
       "0.14536444436004428"
      ]
     },
     "execution_count": 43,
     "metadata": {},
     "output_type": "execute_result"
    }
   ],
   "source": [
    "mc.MCPricer(option_type=option_type,isAmerican=False) # original MC for European options"
   ]
  },
  {
   "cell_type": "code",
   "execution_count": 1,
   "metadata": {
    "collapsed": true
   },
   "outputs": [],
   "source": [
    "# mc.OHMCPricer(option_type=option_type,isAmerican=True) # OHLSM for American options"
   ]
  },
  {
   "cell_type": "code",
   "execution_count": 45,
   "metadata": {
    "collapsed": false
   },
   "outputs": [
    {
     "data": {
      "text/plain": [
       "0.14256024021081362"
      ]
     },
     "execution_count": 45,
     "metadata": {},
     "output_type": "execute_result"
    }
   ],
   "source": [
    "mc.OHMCPricer(option_type=option_type,isAmerican=False) # OHLSM for European options"
   ]
  },
  {
   "cell_type": "code",
   "execution_count": null,
   "metadata": {
    "collapsed": true
   },
   "outputs": [],
   "source": []
  },
  {
   "cell_type": "markdown",
   "metadata": {},
   "source": [
    "### 5.5 Performance Test:\n",
    "\n",
    "#### Parameters:\n",
    "\n",
    "    risk_free_rate = 0.06\n",
    "    dividend = 0.0\n",
    "    time_to_maturity = 1\n",
    "    volatility = 0.3\n",
    "    strike = 1.1\n",
    "    stock_price = 1\n",
    "    n_trials = 4000\n",
    "    n_steps = 20\n",
    "    func_list = [lambda x: x**0, lambda x: x] # basis for OHMC part\n",
    "    option_type = 'p'\n",
    "    \n",
    "#### Results:\n",
    "\n",
    "**American Options**\n",
    "\n",
    "|Algorithm | Price  | Delta  |\n",
    "|---|---|---|\n",
    "| A1  | 0.1499 | N/A  | \n",
    "|  A2 |  0.1590 | 0.585  | \n",
    "|  A2b |  0.1500 | 0.491  | \n",
    "\n",
    "\n",
    "**European Options**\n",
    "\n",
    "* BS Formula: 0.1401\n",
    "* BS Binomial Tree: 0.1410\n",
    "* Regular MC: 0.1453\n",
    "* OHMC: 0.1426"
   ]
  },
  {
   "cell_type": "markdown",
   "metadata": {},
   "source": [
    "## 6 Early Exercise Comparison"
   ]
  },
  {
   "cell_type": "code",
   "execution_count": 67,
   "metadata": {
    "collapsed": false
   },
   "outputs": [],
   "source": [
    "mc = MonteCarlo(S0=stock_price,K=1,T=time_to_maturity,r=risk_free_rate,q=dividend,sigma=volatility)\n",
    "price_matrix = mc.simulate(n_trials,n_steps)"
   ]
  },
  {
   "cell_type": "code",
   "execution_count": 72,
   "metadata": {
    "collapsed": false
   },
   "outputs": [
    {
     "name": "stdout",
     "output_type": "stream",
     "text": [
      "price: 0.15535896988712722, delta-hedge: -0.7567046868819357\n"
     ]
    }
   ],
   "source": [
    "mc.LSM(option_type='c',func_list=[lambda x: x**0, lambda x: x],onlyITM=False,buy_cost=0.0,sell_cost=0.0)"
   ]
  },
  {
   "cell_type": "code",
   "execution_count": 73,
   "metadata": {
    "collapsed": false
   },
   "outputs": [
    {
     "data": {
      "text/plain": [
       "(0.15535896988712722, 0.7567046868819357)"
      ]
     },
     "execution_count": 73,
     "metadata": {},
     "output_type": "execute_result"
    }
   ],
   "source": [
    "mc.HLSM_price,mc.HLSM_delta"
   ]
  },
  {
   "cell_type": "code",
   "execution_count": 7,
   "metadata": {
    "collapsed": true
   },
   "outputs": [],
   "source": [
    "K1 = 0.9\n",
    "K2 = 1.2"
   ]
  },
  {
   "cell_type": "code",
   "execution_count": null,
   "metadata": {
    "collapsed": true
   },
   "outputs": [],
   "source": []
  },
  {
   "cell_type": "code",
   "execution_count": 49,
   "metadata": {
    "collapsed": true
   },
   "outputs": [],
   "source": [
    "def earlyExerciseComparison(S0,K,T,r,q,sigma,option_type):\n",
    "    metric_dict = dict()\n",
    "    mc = MonteCarlo(S0,K,T,r,q,sigma)\n",
    "    price_matrix = mc.simulate(n_trials,n_steps)\n",
    "    mc.LSM(option_type=option_type,func_list=[lambda x: x**0, lambda x: x],onlyITM=False,buy_cost=0.0,sell_cost=0.0)\n",
    "    metric_dict[\"BS price\"] = mc.BlackScholesPricer(option_type)\n",
    "    metric_dict[\"BS delta\"] = mc.BSDeltaHedgedPricer(option_type)\n",
    "    metric_dict[\"price\"] = mc.HLSM_price\n",
    "    metric_dict[\"delta\"] = mc.HLSM_delta\n",
    "    metric_dict[\"average exercise time\"] = np.where(mc.exercise_matrix==True)[1].mean()/n_steps*time_to_maturity\n",
    "    return metric_dict"
   ]
  },
  {
   "cell_type": "code",
   "execution_count": 80,
   "metadata": {
    "collapsed": false
   },
   "outputs": [
    {
     "name": "stdout",
     "output_type": "stream",
     "text": [
      "price: 0.1456722164557313, delta-hedge: 0.5059954279887573\n"
     ]
    },
    {
     "data": {
      "text/plain": [
       "{'average exercise time': 0.73025000000000007,\n",
       " 'delta': -0.5059954279887573,\n",
       " 'price': 0.1456722164557313}"
      ]
     },
     "execution_count": 80,
     "metadata": {},
     "output_type": "execute_result"
    }
   ],
   "source": [
    "earlyExerciseComparison(stock_price,strike,time_to_maturity,risk_free_rate,dividend,volatility,'p')"
   ]
  },
  {
   "cell_type": "code",
   "execution_count": 92,
   "metadata": {
    "collapsed": false
   },
   "outputs": [
    {
     "data": {
      "text/html": [
       "<div>\n",
       "<style scoped>\n",
       "    .dataframe tbody tr th:only-of-type {\n",
       "        vertical-align: middle;\n",
       "    }\n",
       "\n",
       "    .dataframe tbody tr th {\n",
       "        vertical-align: top;\n",
       "    }\n",
       "\n",
       "    .dataframe thead th {\n",
       "        text-align: right;\n",
       "    }\n",
       "</style>\n",
       "<table border=\"1\" class=\"dataframe\">\n",
       "  <thead>\n",
       "    <tr style=\"text-align: right;\">\n",
       "      <th></th>\n",
       "      <th>r</th>\n",
       "      <th>price</th>\n",
       "    </tr>\n",
       "  </thead>\n",
       "  <tbody>\n",
       "    <tr>\n",
       "      <th>0</th>\n",
       "      <td>0.0</td>\n",
       "      <td>1</td>\n",
       "    </tr>\n",
       "    <tr>\n",
       "      <th>1</th>\n",
       "      <td>0.1</td>\n",
       "      <td>2</td>\n",
       "    </tr>\n",
       "    <tr>\n",
       "      <th>2</th>\n",
       "      <td>0.2</td>\n",
       "      <td>3</td>\n",
       "    </tr>\n",
       "    <tr>\n",
       "      <th>3</th>\n",
       "      <td>0.3</td>\n",
       "      <td>4</td>\n",
       "    </tr>\n",
       "    <tr>\n",
       "      <th>4</th>\n",
       "      <td>0.4</td>\n",
       "      <td>5</td>\n",
       "    </tr>\n",
       "    <tr>\n",
       "      <th>5</th>\n",
       "      <td>0.5</td>\n",
       "      <td>6</td>\n",
       "    </tr>\n",
       "  </tbody>\n",
       "</table>\n",
       "</div>"
      ],
      "text/plain": [
       "     r  price\n",
       "0  0.0      1\n",
       "1  0.1      2\n",
       "2  0.2      3\n",
       "3  0.3      4\n",
       "4  0.4      5\n",
       "5  0.5      6"
      ]
     },
     "execution_count": 92,
     "metadata": {},
     "output_type": "execute_result"
    }
   ],
   "source": [
    "df[\"price\"] = [1,2,3,4,5,6]\n",
    "df"
   ]
  },
  {
   "cell_type": "code",
   "execution_count": 56,
   "metadata": {
    "collapsed": false
   },
   "outputs": [],
   "source": [
    "def averageExerciseTimeRiskFreeRate(S0,K1,K2,T,r_list,q,sigma,option_type):\n",
    "    df1 = pd.DataFrame()\n",
    "    df2 = pd.DataFrame()\n",
    "    df1[\"r\"] = pd.Series(r_list)\n",
    "    df2[\"r\"] = pd.Series(r_list)\n",
    "    price_list1 = []\n",
    "    delta_list1 = []\n",
    "    exercise_list1 = []\n",
    "    price_list2 = []\n",
    "    delta_list2 = []\n",
    "    exercise_list2 = []\n",
    "    BS_price_list1 = []\n",
    "    BS_price_list2 = []\n",
    "    BS_delta_list1 = []\n",
    "    BS_delta_list2 = []\n",
    "    \n",
    "    for r in r_list:\n",
    "        metric_dict1 = earlyExerciseComparison(S0,K1,T,r,q,sigma,option_type)\n",
    "        metric_dict2 = earlyExerciseComparison(S0,K2,T,r,q,sigma,option_type)\n",
    "        price_list1.append(metric_dict1[\"price\"])\n",
    "        BS_price_list1.append(metric_dict1[\"BS price\"])\n",
    "        delta_list1.append(metric_dict1[\"delta\"])\n",
    "        exercise_list1.append(metric_dict1[\"average exercise time\"])\n",
    "        BS_delta_list1.append(metric_dict1[\"BS delta\"])\n",
    "        BS_delta_list2.append(metric_dict2[\"BS delta\"])\n",
    "        price_list2.append(metric_dict2[\"price\"])\n",
    "        BS_price_list2.append(metric_dict2[\"BS price\"])\n",
    "        delta_list2.append(metric_dict2[\"delta\"])\n",
    "        exercise_list2.append(metric_dict2[\"average exercise time\"])\n",
    "    df1[\"price\"] = price_list1\n",
    "    df1[\"BS price\"] = BS_price_list1\n",
    "    df1[\"delta\"] = delta_list1\n",
    "    df1[\"average exercise time\"] = exercise_list1\n",
    "    \n",
    "    df2[\"price\"] = price_list2\n",
    "    df2[\"BS price\"] = BS_price_list2\n",
    "    df2[\"delta\"] = delta_list2\n",
    "    df2[\"average exercise time\"] = exercise_list2\n",
    "    \n",
    "    df1[\"BS delta\"] = BS_delta_list1\n",
    "    df2[\"BS delta\"] = BS_delta_list2\n",
    "    \n",
    "    return df1,df2"
   ]
  },
  {
   "cell_type": "code",
   "execution_count": 57,
   "metadata": {
    "collapsed": true
   },
   "outputs": [],
   "source": [
    "def averageExerciseTimeDividend(S0,K1,K2,T,r,q_list,sigma,option_type):\n",
    "    df1 = pd.DataFrame()\n",
    "    df2 = pd.DataFrame()\n",
    "    df1[\"dividend\"] = pd.Series(q_list)\n",
    "    df2[\"dividend\"] = pd.Series(q_list)\n",
    "    price_list1 = []\n",
    "    delta_list1 = []\n",
    "    exercise_list1 = []\n",
    "    price_list2 = []\n",
    "    delta_list2 = []\n",
    "    exercise_list2 = []\n",
    "    BS_price_list1 = []\n",
    "    BS_price_list2 = []\n",
    "    BS_delta_list1 = []\n",
    "    BS_delta_list2 = []\n",
    "    \n",
    "    for q in q_list:\n",
    "        metric_dict1 = earlyExerciseComparison(S0,K1,T,r,q,sigma,option_type)\n",
    "        metric_dict2 = earlyExerciseComparison(S0,K2,T,r,q,sigma,option_type)\n",
    "        price_list1.append(metric_dict1[\"price\"])\n",
    "        BS_price_list1.append(metric_dict1[\"BS price\"])\n",
    "        delta_list1.append(metric_dict1[\"delta\"])\n",
    "        exercise_list1.append(metric_dict1[\"average exercise time\"])\n",
    "        BS_delta_list1.append(metric_dict1[\"BS delta\"])\n",
    "        BS_delta_list2.append(metric_dict2[\"BS delta\"])\n",
    "        price_list2.append(metric_dict2[\"price\"])\n",
    "        BS_price_list2.append(metric_dict2[\"BS price\"])\n",
    "        delta_list2.append(metric_dict2[\"delta\"])\n",
    "        exercise_list2.append(metric_dict2[\"average exercise time\"])\n",
    "    df1[\"price\"] = price_list1\n",
    "    df1[\"BS price\"] = BS_price_list1\n",
    "    df1[\"delta\"] = delta_list1\n",
    "    df1[\"average exercise time\"] = exercise_list1\n",
    "    \n",
    "    df2[\"price\"] = price_list2\n",
    "    df2[\"BS price\"] = BS_price_list2\n",
    "    df2[\"delta\"] = delta_list2\n",
    "    df2[\"average exercise time\"] = exercise_list2\n",
    "    \n",
    "    df1[\"BS delta\"] = BS_delta_list1\n",
    "    df2[\"BS delta\"] = BS_delta_list2\n",
    "    \n",
    "    return df1,df2"
   ]
  },
  {
   "cell_type": "code",
   "execution_count": 115,
   "metadata": {
    "collapsed": true
   },
   "outputs": [],
   "source": [
    "def averageExerciseTimeVolatility(S0,K1,K2,T,r,q,sigma_list,option_type):\n",
    "    df1 = pd.DataFrame()\n",
    "    df2 = pd.DataFrame()\n",
    "    df1[\"volatility\"] = pd.Series(sigma_list)\n",
    "    df2[\"volatility\"] = pd.Series(sigma_list)\n",
    "    price_list1 = []\n",
    "    delta_list1 = []\n",
    "    exercise_list1 = []\n",
    "    price_list2 = []\n",
    "    delta_list2 = []\n",
    "    exercise_list2 = []\n",
    "    BS_price_list1 = []\n",
    "    BS_price_list2 = []\n",
    "    BS_delta_list1 = []\n",
    "    BS_delta_list2 = []\n",
    "    \n",
    "    for sigma in sigma_list:\n",
    "        metric_dict1 = earlyExerciseComparison(S0,K1,T,r,q,sigma,option_type)\n",
    "        metric_dict2 = earlyExerciseComparison(S0,K2,T,r,q,sigma,option_type)\n",
    "        price_list1.append(metric_dict1[\"price\"])\n",
    "        BS_price_list1.append(metric_dict1[\"BS price\"])\n",
    "        delta_list1.append(metric_dict1[\"delta\"])\n",
    "        exercise_list1.append(metric_dict1[\"average exercise time\"])\n",
    "        BS_delta_list1.append(metric_dict1[\"BS delta\"])\n",
    "        BS_delta_list2.append(metric_dict2[\"BS delta\"])\n",
    "        price_list2.append(metric_dict2[\"price\"])\n",
    "        BS_price_list2.append(metric_dict2[\"BS price\"])\n",
    "        delta_list2.append(metric_dict2[\"delta\"])\n",
    "        exercise_list2.append(metric_dict2[\"average exercise time\"])\n",
    "    df1[\"price\"] = price_list1\n",
    "    df1[\"BS price\"] = BS_price_list1\n",
    "    df1[\"delta\"] = delta_list1\n",
    "    df1[\"average exercise time\"] = exercise_list1\n",
    "    \n",
    "    df2[\"price\"] = price_list2\n",
    "    df2[\"BS price\"] = BS_price_list2\n",
    "    df2[\"delta\"] = delta_list2\n",
    "    df2[\"average exercise time\"] = exercise_list2\n",
    "    \n",
    "    df1[\"BS delta\"] = BS_delta_list1\n",
    "    df2[\"BS delta\"] = BS_delta_list2\n",
    "    \n",
    "    return df1,df2"
   ]
  },
  {
   "cell_type": "code",
   "execution_count": 27,
   "metadata": {
    "collapsed": true
   },
   "outputs": [],
   "source": [
    "def averageExerciseTimeDividend(S0,K1,K2,T,r,q_list,sigma,option_type):\n",
    "    averageExerciseTime1_list = []\n",
    "    averageExerciseTime2_list = []\n",
    "    for q in q_list:\n",
    "        averageExerciseTime1_list.append(earlyExerciseComparison(S0,K1,T,r,q,sigma,option_type))\n",
    "        averageExerciseTime2_list.append(earlyExerciseComparison(S0,K2,T,r,q,sigma,option_type))\n",
    "    return averageExerciseTime1_list,averageExerciseTime2_list"
   ]
  },
  {
   "cell_type": "code",
   "execution_count": 40,
   "metadata": {
    "collapsed": true
   },
   "outputs": [],
   "source": [
    "def averageExerciseTimeVolatility(S0,K1,K2,T,r,q,sigma_list,option_type):\n",
    "    averageExerciseTime1_list = []\n",
    "    averageExerciseTime2_list = []\n",
    "    for sigma in sigma_list:\n",
    "        averageExerciseTime1_list.append(earlyExerciseComparison(S0,K1,T,r,q,sigma,option_type))\n",
    "        averageExerciseTime2_list.append(earlyExerciseComparison(S0,K2,T,r,q,sigma,option_type))\n",
    "    return averageExerciseTime1_list,averageExerciseTime2_list"
   ]
  },
  {
   "cell_type": "markdown",
   "metadata": {},
   "source": [
    "### 6.1 risk free rate"
   ]
  },
  {
   "cell_type": "code",
   "execution_count": 87,
   "metadata": {
    "collapsed": true
   },
   "outputs": [],
   "source": [
    "r_low=0.1\n",
    "r_high=0.5\n",
    "r_list = [0.1*i for i in range(5)]"
   ]
  },
  {
   "cell_type": "code",
   "execution_count": 90,
   "metadata": {
    "collapsed": false
   },
   "outputs": [
    {
     "name": "stdout",
     "output_type": "stream",
     "text": [
      "price: 0.07344334026203707, delta-hedge: 0.2851610642518651\n",
      "price: 0.2543805207332204, delta-hedge: 0.8191544939879063\n",
      "price: 0.05067828994004845, delta-hedge: 0.24495187445857697\n",
      "price: 0.2045990306193768, delta-hedge: 0.7971059352201469\n",
      "price: 0.02499356625533608, delta-hedge: 0.10579438462464796\n",
      "price: 0.1889819157676027, delta-hedge: 0.968548439020071\n",
      "price: 0.014992853067425288, delta-hedge: 0.12824733152197199\n",
      "price: 0.18278239380047767, delta-hedge: 0.9725999045284608\n",
      "price: 0.011631876772482086, delta-hedge: 0.08490543391511093\n",
      "price: 0.17706993164488505, delta-hedge: 0.954046544479705\n"
     ]
    }
   ],
   "source": [
    "r_df1,r_df2 = averageExerciseTimeRiskFreeRate(S0=stock_price,K1=K1,K2=K2,T=time_to_maturity,r_list=r_list,q=dividend,sigma=volatility,option_type=\"p\")"
   ]
  },
  {
   "cell_type": "code",
   "execution_count": 91,
   "metadata": {
    "collapsed": false
   },
   "outputs": [],
   "source": [
    "r_put_ITM_df = r_df2\n",
    "r_put_OTM_df = r_df1"
   ]
  },
  {
   "cell_type": "code",
   "execution_count": 92,
   "metadata": {
    "collapsed": false
   },
   "outputs": [
    {
     "data": {
      "text/html": [
       "<div>\n",
       "<style scoped>\n",
       "    .dataframe tbody tr th:only-of-type {\n",
       "        vertical-align: middle;\n",
       "    }\n",
       "\n",
       "    .dataframe tbody tr th {\n",
       "        vertical-align: top;\n",
       "    }\n",
       "\n",
       "    .dataframe thead th {\n",
       "        text-align: right;\n",
       "    }\n",
       "</style>\n",
       "<table border=\"1\" class=\"dataframe\">\n",
       "  <thead>\n",
       "    <tr style=\"text-align: right;\">\n",
       "      <th></th>\n",
       "      <th>r</th>\n",
       "      <th>price</th>\n",
       "      <th>BS price</th>\n",
       "      <th>delta</th>\n",
       "      <th>average exercise time</th>\n",
       "      <th>BS delta</th>\n",
       "    </tr>\n",
       "  </thead>\n",
       "  <tbody>\n",
       "    <tr>\n",
       "      <th>0</th>\n",
       "      <td>0.0</td>\n",
       "      <td>0.254381</td>\n",
       "      <td>0.254406</td>\n",
       "      <td>-0.819154</td>\n",
       "      <td>0.816125</td>\n",
       "      <td>0.256058</td>\n",
       "    </tr>\n",
       "    <tr>\n",
       "      <th>1</th>\n",
       "      <td>0.1</td>\n",
       "      <td>0.204599</td>\n",
       "      <td>0.171868</td>\n",
       "      <td>-0.797106</td>\n",
       "      <td>0.359750</td>\n",
       "      <td>0.172237</td>\n",
       "    </tr>\n",
       "    <tr>\n",
       "      <th>2</th>\n",
       "      <td>0.2</td>\n",
       "      <td>0.188982</td>\n",
       "      <td>0.109633</td>\n",
       "      <td>-0.968548</td>\n",
       "      <td>0.092500</td>\n",
       "      <td>0.111145</td>\n",
       "    </tr>\n",
       "    <tr>\n",
       "      <th>3</th>\n",
       "      <td>0.3</td>\n",
       "      <td>0.182782</td>\n",
       "      <td>0.065586</td>\n",
       "      <td>-0.972600</td>\n",
       "      <td>0.074500</td>\n",
       "      <td>0.065962</td>\n",
       "    </tr>\n",
       "    <tr>\n",
       "      <th>4</th>\n",
       "      <td>0.4</td>\n",
       "      <td>0.177070</td>\n",
       "      <td>0.036569</td>\n",
       "      <td>-0.954047</td>\n",
       "      <td>0.053875</td>\n",
       "      <td>0.036136</td>\n",
       "    </tr>\n",
       "  </tbody>\n",
       "</table>\n",
       "</div>"
      ],
      "text/plain": [
       "     r     price  BS price     delta  average exercise time  BS delta\n",
       "0  0.0  0.254381  0.254406 -0.819154               0.816125  0.256058\n",
       "1  0.1  0.204599  0.171868 -0.797106               0.359750  0.172237\n",
       "2  0.2  0.188982  0.109633 -0.968548               0.092500  0.111145\n",
       "3  0.3  0.182782  0.065586 -0.972600               0.074500  0.065962\n",
       "4  0.4  0.177070  0.036569 -0.954047               0.053875  0.036136"
      ]
     },
     "execution_count": 92,
     "metadata": {},
     "output_type": "execute_result"
    }
   ],
   "source": [
    "r_put_ITM_df"
   ]
  },
  {
   "cell_type": "code",
   "execution_count": 93,
   "metadata": {
    "collapsed": false
   },
   "outputs": [
    {
     "data": {
      "text/html": [
       "<div>\n",
       "<style scoped>\n",
       "    .dataframe tbody tr th:only-of-type {\n",
       "        vertical-align: middle;\n",
       "    }\n",
       "\n",
       "    .dataframe tbody tr th {\n",
       "        vertical-align: top;\n",
       "    }\n",
       "\n",
       "    .dataframe thead th {\n",
       "        text-align: right;\n",
       "    }\n",
       "</style>\n",
       "<table border=\"1\" class=\"dataframe\">\n",
       "  <thead>\n",
       "    <tr style=\"text-align: right;\">\n",
       "      <th></th>\n",
       "      <th>r</th>\n",
       "      <th>price</th>\n",
       "      <th>BS price</th>\n",
       "      <th>delta</th>\n",
       "      <th>average exercise time</th>\n",
       "      <th>BS delta</th>\n",
       "    </tr>\n",
       "  </thead>\n",
       "  <tbody>\n",
       "    <tr>\n",
       "      <th>0</th>\n",
       "      <td>0.0</td>\n",
       "      <td>0.073443</td>\n",
       "      <td>0.070129</td>\n",
       "      <td>-0.285161</td>\n",
       "      <td>0.945875</td>\n",
       "      <td>0.070197</td>\n",
       "    </tr>\n",
       "    <tr>\n",
       "      <th>1</th>\n",
       "      <td>0.1</td>\n",
       "      <td>0.050678</td>\n",
       "      <td>0.039454</td>\n",
       "      <td>-0.244952</td>\n",
       "      <td>0.924375</td>\n",
       "      <td>0.039866</td>\n",
       "    </tr>\n",
       "    <tr>\n",
       "      <th>2</th>\n",
       "      <td>0.2</td>\n",
       "      <td>0.024994</td>\n",
       "      <td>0.020587</td>\n",
       "      <td>-0.105794</td>\n",
       "      <td>0.868500</td>\n",
       "      <td>0.021246</td>\n",
       "    </tr>\n",
       "    <tr>\n",
       "      <th>3</th>\n",
       "      <td>0.3</td>\n",
       "      <td>0.014993</td>\n",
       "      <td>0.009914</td>\n",
       "      <td>-0.128247</td>\n",
       "      <td>0.851250</td>\n",
       "      <td>0.009300</td>\n",
       "    </tr>\n",
       "    <tr>\n",
       "      <th>4</th>\n",
       "      <td>0.4</td>\n",
       "      <td>0.011632</td>\n",
       "      <td>0.004387</td>\n",
       "      <td>-0.084905</td>\n",
       "      <td>0.854000</td>\n",
       "      <td>0.004158</td>\n",
       "    </tr>\n",
       "  </tbody>\n",
       "</table>\n",
       "</div>"
      ],
      "text/plain": [
       "     r     price  BS price     delta  average exercise time  BS delta\n",
       "0  0.0  0.073443  0.070129 -0.285161               0.945875  0.070197\n",
       "1  0.1  0.050678  0.039454 -0.244952               0.924375  0.039866\n",
       "2  0.2  0.024994  0.020587 -0.105794               0.868500  0.021246\n",
       "3  0.3  0.014993  0.009914 -0.128247               0.851250  0.009300\n",
       "4  0.4  0.011632  0.004387 -0.084905               0.854000  0.004158"
      ]
     },
     "execution_count": 93,
     "metadata": {},
     "output_type": "execute_result"
    }
   ],
   "source": [
    "r_put_OTM_df"
   ]
  },
  {
   "cell_type": "code",
   "execution_count": 94,
   "metadata": {
    "collapsed": false
   },
   "outputs": [
    {
     "data": {
      "image/png": "[encoded data removed]",
      "text/plain": [
       "<matplotlib.figure.Figure at 0x11c757898>"
      ]
     },
     "metadata": {},
     "output_type": "display_data"
    }
   ],
   "source": [
    "plt.plot(r_list,r_put_OTM_df[\"average exercise time\"],label=\"put option, OTM\")\n",
    "plt.plot(r_list,r_put_ITM_df[\"average exercise time\"],label=\"put option, ITM\")\n",
    "plt.legend()\n",
    "plt.title(\"r vs. average exercise time\")\n",
    "plt.show()"
   ]
  },
  {
   "cell_type": "code",
   "execution_count": 95,
   "metadata": {
    "collapsed": false
   },
   "outputs": [
    {
     "data": {
      "image/png": "[encoded data removed]",
      "text/plain": [
       "<matplotlib.figure.Figure at 0x11d0a1780>"
      ]
     },
     "metadata": {},
     "output_type": "display_data"
    }
   ],
   "source": [
    "plt.plot(r_list,r_put_OTM_df[\"price\"],label=\"put option, OTM\")\n",
    "plt.plot(r_list,r_put_ITM_df[\"price\"],label=\"put option, ITM\")\n",
    "plt.plot(r_list,r_put_OTM_df[\"BS price\"],label=\"European put option, OTM\")\n",
    "plt.plot(r_list,r_put_ITM_df[\"BS price\"],label=\"European put option, ITM\")\n",
    "\n",
    "plt.legend()\n",
    "plt.title(\"r vs. price\")\n",
    "plt.show()"
   ]
  },
  {
   "cell_type": "code",
   "execution_count": 96,
   "metadata": {
    "collapsed": false
   },
   "outputs": [
    {
     "data": {
      "image/png": "[encoded data removed]",
      "text/plain": [
       "<matplotlib.figure.Figure at 0x11c86cdd8>"
      ]
     },
     "metadata": {},
     "output_type": "display_data"
    }
   ],
   "source": [
    "plt.plot(r_list,r_put_OTM_df[\"delta\"],label=\"put option, OTM\")\n",
    "plt.plot(r_list,r_put_ITM_df[\"delta\"],label=\"put option, ITM\")\n",
    "plt.plot(r_list,r_put_OTM_df[\"BS delta\"],label=\"European put option, OTM\")\n",
    "plt.plot(r_list,r_put_ITM_df[\"BS delta\"],label=\"European put option, ITM\")\n",
    "plt.legend()\n",
    "plt.title(\"r vs. delta\")\n",
    "plt.show()"
   ]
  },
  {
   "cell_type": "code",
   "execution_count": 97,
   "metadata": {
    "collapsed": false
   },
   "outputs": [
    {
     "name": "stdout",
     "output_type": "stream",
     "text": [
      "price: 0.16549639179822845, delta-hedge: -0.6004957853402437\n",
      "price: 0.03146826661884927, delta-hedge: -0.3235174029320515\n",
      "price: 0.270610451533873, delta-hedge: -1.1519958153121161\n",
      "price: 0.08051023635768553, delta-hedge: -0.4453606826326743\n",
      "price: 0.3468164480115119, delta-hedge: -1.1418417080003858\n",
      "price: 0.16586474492507447, delta-hedge: -0.9207261925386652\n",
      "price: 0.4385731231050367, delta-hedge: -1.3690636958003932\n",
      "price: 0.23741869826842646, delta-hedge: -0.4459964462449415\n",
      "price: 0.5271879533910762, delta-hedge: -1.222139944434461\n",
      "price: 0.3309009406739315, delta-hedge: -0.8195401248074271\n"
     ]
    }
   ],
   "source": [
    "r_df1,r_df2 = averageExerciseTimeRiskFreeRate(S0=stock_price,K1=K1,K2=K2,T=time_to_maturity,r_list=r_list,q=dividend,sigma=volatility,option_type=\"c\")"
   ]
  },
  {
   "cell_type": "code",
   "execution_count": 99,
   "metadata": {
    "collapsed": true
   },
   "outputs": [],
   "source": [
    "r_call_ITM_df = r_df1\n",
    "r_call_OTM_df = r_df2"
   ]
  },
  {
   "cell_type": "code",
   "execution_count": 104,
   "metadata": {
    "collapsed": false
   },
   "outputs": [
    {
     "data": {
      "image/png": "[encoded data removed]",
      "text/plain": [
       "<matplotlib.figure.Figure at 0x11d094eb8>"
      ]
     },
     "metadata": {},
     "output_type": "display_data"
    }
   ],
   "source": [
    "plt.plot(r_list,r_call_OTM_df[\"average exercise time\"],label=\"call option, OTM\")\n",
    "plt.plot(r_list,r_call_ITM_df[\"average exercise time\"],label=\"call option, ITM\")\n",
    "\n",
    "plt.legend()\n",
    "plt.title(\"r vs. average exercise time\")\n",
    "plt.show()"
   ]
  },
  {
   "cell_type": "code",
   "execution_count": 105,
   "metadata": {
    "collapsed": false
   },
   "outputs": [
    {
     "data": {
      "image/png": "[encoded data removed]",
      "text/plain": [
       "<matplotlib.figure.Figure at 0x11cc236d8>"
      ]
     },
     "metadata": {},
     "output_type": "display_data"
    }
   ],
   "source": [
    "plt.plot(r_list,r_call_OTM_df[\"price\"],label=\"call option, OTM\")\n",
    "plt.plot(r_list,r_call_ITM_df[\"price\"],label=\"call option, ITM\")\n",
    "plt.plot(r_list,r_call_OTM_df[\"BS price\"],label=\"European call option, OTM\")\n",
    "plt.plot(r_list,r_call_ITM_df[\"BS price\"],label=\"European call option, ITM\")\n",
    "\n",
    "plt.legend()\n",
    "plt.title(\"r vs. price\")\n",
    "plt.show()"
   ]
  },
  {
   "cell_type": "code",
   "execution_count": 140,
   "metadata": {
    "collapsed": false
   },
   "outputs": [
    {
     "data": {
      "image/png": "[encoded data removed]",
      "text/plain": [
       "<matplotlib.figure.Figure at 0x11cdbe518>"
      ]
     },
     "metadata": {},
     "output_type": "display_data"
    }
   ],
   "source": [
    "plt.plot(r_list,r_call_OTM_df[\"delta\"],label=\"call option, OTM\")\n",
    "plt.plot(r_list,r_call_ITM_df[\"delta\"],label=\"call option, ITM\")\n",
    "plt.plot(r_list,r_call_OTM_df[\"BS delta\"],label=\"European call option, OTM\")\n",
    "plt.plot(r_list,r_call_ITM_df[\"BS delta\"],label=\"European call option, ITM\")\n",
    "\n",
    "plt.legend()\n",
    "plt.title(\"r vs. delta\")\n",
    "plt.show()"
   ]
  },
  {
   "cell_type": "markdown",
   "metadata": {},
   "source": [
    "### 6.2 dividend"
   ]
  },
  {
   "cell_type": "code",
   "execution_count": 107,
   "metadata": {
    "collapsed": true
   },
   "outputs": [],
   "source": [
    "q_low=0\n",
    "q_high=0.3\n",
    "q_list = [0.1*i for i in range(3)]"
   ]
  },
  {
   "cell_type": "code",
   "execution_count": 108,
   "metadata": {
    "collapsed": false
   },
   "outputs": [
    {
     "name": "stdout",
     "output_type": "stream",
     "text": [
      "price: 0.06369406627041597, delta-hedge: 0.3979475103779342\n",
      "price: 0.23384361558768862, delta-hedge: 0.8038041002619591\n",
      "price: 0.07278907815432188, delta-hedge: 0.3804692543538679\n",
      "price: 0.2825511765834884, delta-hedge: 0.5916889430542438\n",
      "price: 0.12117480061242318, delta-hedge: 0.36361468136140496\n",
      "price: 0.36870448059543726, delta-hedge: 0.8385521966915168\n"
     ]
    }
   ],
   "source": [
    "q_df1,q_df2 = averageExerciseTimeDividend(S0=stock_price,K1=K1,K2=K2,T=time_to_maturity,r=risk_free_rate,q_list=q_list,sigma=volatility,option_type=\"p\")"
   ]
  },
  {
   "cell_type": "code",
   "execution_count": 109,
   "metadata": {
    "collapsed": false
   },
   "outputs": [],
   "source": [
    "q_put_OTM_df = q_df1\n",
    "q_put_ITM_df = q_df2"
   ]
  },
  {
   "cell_type": "code",
   "execution_count": 110,
   "metadata": {
    "collapsed": false
   },
   "outputs": [
    {
     "data": {
      "text/html": [
       "<div>\n",
       "<style scoped>\n",
       "    .dataframe tbody tr th:only-of-type {\n",
       "        vertical-align: middle;\n",
       "    }\n",
       "\n",
       "    .dataframe tbody tr th {\n",
       "        vertical-align: top;\n",
       "    }\n",
       "\n",
       "    .dataframe thead th {\n",
       "        text-align: right;\n",
       "    }\n",
       "</style>\n",
       "<table border=\"1\" class=\"dataframe\">\n",
       "  <thead>\n",
       "    <tr style=\"text-align: right;\">\n",
       "      <th></th>\n",
       "      <th>dividend</th>\n",
       "      <th>price</th>\n",
       "      <th>BS price</th>\n",
       "      <th>delta</th>\n",
       "      <th>average exercise time</th>\n",
       "      <th>BS delta</th>\n",
       "    </tr>\n",
       "  </thead>\n",
       "  <tbody>\n",
       "    <tr>\n",
       "      <th>0</th>\n",
       "      <td>0.0</td>\n",
       "      <td>0.063694</td>\n",
       "      <td>0.050097</td>\n",
       "      <td>-0.397948</td>\n",
       "      <td>0.950875</td>\n",
       "      <td>0.049991</td>\n",
       "    </tr>\n",
       "    <tr>\n",
       "      <th>1</th>\n",
       "      <td>0.1</td>\n",
       "      <td>0.072789</td>\n",
       "      <td>0.078301</td>\n",
       "      <td>-0.380469</td>\n",
       "      <td>0.954250</td>\n",
       "      <td>0.079694</td>\n",
       "    </tr>\n",
       "    <tr>\n",
       "      <th>2</th>\n",
       "      <td>0.2</td>\n",
       "      <td>0.121175</td>\n",
       "      <td>0.114427</td>\n",
       "      <td>-0.363615</td>\n",
       "      <td>0.990250</td>\n",
       "      <td>0.113926</td>\n",
       "    </tr>\n",
       "  </tbody>\n",
       "</table>\n",
       "</div>"
      ],
      "text/plain": [
       "   dividend     price  BS price     delta  average exercise time  BS delta\n",
       "0       0.0  0.063694  0.050097 -0.397948               0.950875  0.049991\n",
       "1       0.1  0.072789  0.078301 -0.380469               0.954250  0.079694\n",
       "2       0.2  0.121175  0.114427 -0.363615               0.990250  0.113926"
      ]
     },
     "execution_count": 110,
     "metadata": {},
     "output_type": "execute_result"
    }
   ],
   "source": [
    "q_put_OTM_df"
   ]
  },
  {
   "cell_type": "code",
   "execution_count": 111,
   "metadata": {
    "collapsed": false
   },
   "outputs": [
    {
     "data": {
      "text/html": [
       "<div>\n",
       "<style scoped>\n",
       "    .dataframe tbody tr th:only-of-type {\n",
       "        vertical-align: middle;\n",
       "    }\n",
       "\n",
       "    .dataframe tbody tr th {\n",
       "        vertical-align: top;\n",
       "    }\n",
       "\n",
       "    .dataframe thead th {\n",
       "        text-align: right;\n",
       "    }\n",
       "</style>\n",
       "<table border=\"1\" class=\"dataframe\">\n",
       "  <thead>\n",
       "    <tr style=\"text-align: right;\">\n",
       "      <th></th>\n",
       "      <th>dividend</th>\n",
       "      <th>price</th>\n",
       "      <th>BS price</th>\n",
       "      <th>delta</th>\n",
       "      <th>average exercise time</th>\n",
       "      <th>BS delta</th>\n",
       "    </tr>\n",
       "  </thead>\n",
       "  <tbody>\n",
       "    <tr>\n",
       "      <th>0</th>\n",
       "      <td>0.0</td>\n",
       "      <td>0.233844</td>\n",
       "      <td>0.202370</td>\n",
       "      <td>-0.803804</td>\n",
       "      <td>0.662250</td>\n",
       "      <td>0.203310</td>\n",
       "    </tr>\n",
       "    <tr>\n",
       "      <th>1</th>\n",
       "      <td>0.1</td>\n",
       "      <td>0.282551</td>\n",
       "      <td>0.265429</td>\n",
       "      <td>-0.591689</td>\n",
       "      <td>0.913625</td>\n",
       "      <td>0.264599</td>\n",
       "    </tr>\n",
       "    <tr>\n",
       "      <th>2</th>\n",
       "      <td>0.2</td>\n",
       "      <td>0.368704</td>\n",
       "      <td>0.332059</td>\n",
       "      <td>-0.838552</td>\n",
       "      <td>0.939000</td>\n",
       "      <td>0.331158</td>\n",
       "    </tr>\n",
       "  </tbody>\n",
       "</table>\n",
       "</div>"
      ],
      "text/plain": [
       "   dividend     price  BS price     delta  average exercise time  BS delta\n",
       "0       0.0  0.233844  0.202370 -0.803804               0.662250  0.203310\n",
       "1       0.1  0.282551  0.265429 -0.591689               0.913625  0.264599\n",
       "2       0.2  0.368704  0.332059 -0.838552               0.939000  0.331158"
      ]
     },
     "execution_count": 111,
     "metadata": {},
     "output_type": "execute_result"
    }
   ],
   "source": [
    "q_put_ITM_df"
   ]
  },
  {
   "cell_type": "code",
   "execution_count": 112,
   "metadata": {
    "collapsed": false
   },
   "outputs": [
    {
     "data": {
      "image/png": "[encoded data removed]",
      "text/plain": [
       "<matplotlib.figure.Figure at 0x11cc53198>"
      ]
     },
     "metadata": {},
     "output_type": "display_data"
    }
   ],
   "source": [
    "plt.plot(q_list,q_put_OTM_df[\"average exercise time\"],label=\"put option, OTM\")\n",
    "plt.plot(q_list,q_put_ITM_df[\"average exercise time\"],label=\"put option, ITM\")\n",
    "plt.legend()\n",
    "plt.title(\"q vs. average exercise time\")\n",
    "plt.show()"
   ]
  },
  {
   "cell_type": "code",
   "execution_count": 113,
   "metadata": {
    "collapsed": false
   },
   "outputs": [
    {
     "data": {
      "image/png": "[encoded data removed]",
      "text/plain": [
       "<matplotlib.figure.Figure at 0x11cc53b38>"
      ]
     },
     "metadata": {},
     "output_type": "display_data"
    }
   ],
   "source": [
    "plt.plot(q_list,q_put_OTM_df[\"price\"],label=\"put option, OTM\")\n",
    "plt.plot(q_list,q_put_ITM_df[\"price\"],label=\"put option, ITM\")\n",
    "plt.plot(q_list,q_put_OTM_df[\"BS price\"],label=\"European put option, OTM\")\n",
    "plt.plot(q_list,q_put_ITM_df[\"BS price\"],label=\"European put option, ITM\")\n",
    "plt.legend()\n",
    "plt.title(\"q vs. price\")\n",
    "plt.show()"
   ]
  },
  {
   "cell_type": "code",
   "execution_count": 114,
   "metadata": {
    "collapsed": false
   },
   "outputs": [
    {
     "data": {
      "image/png": "[encoded data removed]",
      "text/plain": [
       "<matplotlib.figure.Figure at 0x11d051668>"
      ]
     },
     "metadata": {},
     "output_type": "display_data"
    }
   ],
   "source": [
    "plt.plot(q_list,q_put_OTM_df[\"delta\"],label=\"put option, OTM\")\n",
    "plt.plot(q_list,q_put_ITM_df[\"delta\"],label=\"put option, ITM\")\n",
    "plt.plot(q_list,q_put_OTM_df[\"BS delta\"],label=\"European put option, OTM\")\n",
    "plt.plot(q_list,q_put_ITM_df[\"BS delta\"],label=\"European put option, ITM\")\n",
    "plt.legend()\n",
    "plt.title(\"q vs. delta\")\n",
    "plt.show()"
   ]
  },
  {
   "cell_type": "code",
   "execution_count": 77,
   "metadata": {
    "collapsed": false
   },
   "outputs": [
    {
     "name": "stdout",
     "output_type": "stream",
     "text": [
      "price: 0.20992494280967952, delta-hedge: -0.5291048150527156\n",
      "price: 0.07833748403676652, delta-hedge: -0.5117878830988531\n",
      "price: 0.14328186003546795, delta-hedge: -0.8411543566665243\n",
      "price: 0.04513553628381123, delta-hedge: -0.32505839980808715\n",
      "price: 0.11701486198534565, delta-hedge: -0.6914820060517288\n",
      "price: 0.023962024608411098, delta-hedge: -0.21388854758531903\n"
     ]
    }
   ],
   "source": [
    "q_df1,q_df2 = averageExerciseTimeDividend(S0=stock_price,K1=K1,K2=K2,T=time_to_maturity,r=risk_free_rate,q_list=q_list,sigma=volatility,option_type=\"c\")"
   ]
  },
  {
   "cell_type": "code",
   "execution_count": 78,
   "metadata": {
    "collapsed": false
   },
   "outputs": [],
   "source": [
    "q_call_ITM_df = q_df1\n",
    "q_call_OTM_df = q_df2"
   ]
  },
  {
   "cell_type": "code",
   "execution_count": 79,
   "metadata": {
    "collapsed": false
   },
   "outputs": [
    {
     "data": {
      "text/html": [
       "<div>\n",
       "<style scoped>\n",
       "    .dataframe tbody tr th:only-of-type {\n",
       "        vertical-align: middle;\n",
       "    }\n",
       "\n",
       "    .dataframe tbody tr th {\n",
       "        vertical-align: top;\n",
       "    }\n",
       "\n",
       "    .dataframe thead th {\n",
       "        text-align: right;\n",
       "    }\n",
       "</style>\n",
       "<table border=\"1\" class=\"dataframe\">\n",
       "  <thead>\n",
       "    <tr style=\"text-align: right;\">\n",
       "      <th></th>\n",
       "      <th>dividend</th>\n",
       "      <th>price</th>\n",
       "      <th>BS price</th>\n",
       "      <th>delta</th>\n",
       "      <th>average exercise time</th>\n",
       "      <th>BS delta</th>\n",
       "    </tr>\n",
       "  </thead>\n",
       "  <tbody>\n",
       "    <tr>\n",
       "      <th>0</th>\n",
       "      <td>0.0</td>\n",
       "      <td>0.209925</td>\n",
       "      <td>0.202509</td>\n",
       "      <td>0.529105</td>\n",
       "      <td>0.876250</td>\n",
       "      <td>0.201440</td>\n",
       "    </tr>\n",
       "    <tr>\n",
       "      <th>1</th>\n",
       "      <td>0.1</td>\n",
       "      <td>0.143282</td>\n",
       "      <td>0.135550</td>\n",
       "      <td>0.841154</td>\n",
       "      <td>0.864250</td>\n",
       "      <td>0.135886</td>\n",
       "    </tr>\n",
       "    <tr>\n",
       "      <th>2</th>\n",
       "      <td>0.2</td>\n",
       "      <td>0.117015</td>\n",
       "      <td>0.085570</td>\n",
       "      <td>0.691482</td>\n",
       "      <td>0.541125</td>\n",
       "      <td>0.086834</td>\n",
       "    </tr>\n",
       "  </tbody>\n",
       "</table>\n",
       "</div>"
      ],
      "text/plain": [
       "   dividend     price  BS price     delta  average exercise time  BS delta\n",
       "0       0.0  0.209925  0.202509  0.529105               0.876250  0.201440\n",
       "1       0.1  0.143282  0.135550  0.841154               0.864250  0.135886\n",
       "2       0.2  0.117015  0.085570  0.691482               0.541125  0.086834"
      ]
     },
     "execution_count": 79,
     "metadata": {},
     "output_type": "execute_result"
    }
   ],
   "source": [
    "q_call_ITM_df"
   ]
  },
  {
   "cell_type": "code",
   "execution_count": 80,
   "metadata": {
    "collapsed": false
   },
   "outputs": [
    {
     "data": {
      "text/html": [
       "<div>\n",
       "<style scoped>\n",
       "    .dataframe tbody tr th:only-of-type {\n",
       "        vertical-align: middle;\n",
       "    }\n",
       "\n",
       "    .dataframe tbody tr th {\n",
       "        vertical-align: top;\n",
       "    }\n",
       "\n",
       "    .dataframe thead th {\n",
       "        text-align: right;\n",
       "    }\n",
       "</style>\n",
       "<table border=\"1\" class=\"dataframe\">\n",
       "  <thead>\n",
       "    <tr style=\"text-align: right;\">\n",
       "      <th></th>\n",
       "      <th>dividend</th>\n",
       "      <th>price</th>\n",
       "      <th>BS price</th>\n",
       "      <th>delta</th>\n",
       "      <th>average exercise time</th>\n",
       "      <th>BS delta</th>\n",
       "    </tr>\n",
       "  </thead>\n",
       "  <tbody>\n",
       "    <tr>\n",
       "      <th>0</th>\n",
       "      <td>0.0</td>\n",
       "      <td>0.078337</td>\n",
       "      <td>0.072253</td>\n",
       "      <td>0.511788</td>\n",
       "      <td>0.98250</td>\n",
       "      <td>0.071853</td>\n",
       "    </tr>\n",
       "    <tr>\n",
       "      <th>1</th>\n",
       "      <td>0.1</td>\n",
       "      <td>0.045136</td>\n",
       "      <td>0.040149</td>\n",
       "      <td>0.325058</td>\n",
       "      <td>0.97600</td>\n",
       "      <td>0.040766</td>\n",
       "    </tr>\n",
       "    <tr>\n",
       "      <th>2</th>\n",
       "      <td>0.2</td>\n",
       "      <td>0.023962</td>\n",
       "      <td>0.020673</td>\n",
       "      <td>0.213889</td>\n",
       "      <td>0.94825</td>\n",
       "      <td>0.020734</td>\n",
       "    </tr>\n",
       "  </tbody>\n",
       "</table>\n",
       "</div>"
      ],
      "text/plain": [
       "   dividend     price  BS price     delta  average exercise time  BS delta\n",
       "0       0.0  0.078337  0.072253  0.511788                0.98250  0.071853\n",
       "1       0.1  0.045136  0.040149  0.325058                0.97600  0.040766\n",
       "2       0.2  0.023962  0.020673  0.213889                0.94825  0.020734"
      ]
     },
     "execution_count": 80,
     "metadata": {},
     "output_type": "execute_result"
    }
   ],
   "source": [
    "q_call_OTM_df"
   ]
  },
  {
   "cell_type": "code",
   "execution_count": 81,
   "metadata": {
    "collapsed": false
   },
   "outputs": [
    {
     "data": {
      "image/png": "[encoded data removed]",
      "text/plain": [
       "<matplotlib.figure.Figure at 0x11cf0fb38>"
      ]
     },
     "metadata": {},
     "output_type": "display_data"
    }
   ],
   "source": [
    "plt.plot(q_list,q_call_ITM_df[\"average exercise time\"],label=\"call option, ITM\")\n",
    "plt.plot(q_list,q_call_OTM_df[\"average exercise time\"],label=\"call option, OTM\")\n",
    "plt.legend()\n",
    "plt.title(\"q vs. average exercise time\")\n",
    "plt.show()"
   ]
  },
  {
   "cell_type": "code",
   "execution_count": 85,
   "metadata": {
    "collapsed": false
   },
   "outputs": [
    {
     "data": {
      "image/png": "[encoded data removed]",
      "text/plain": [
       "<matplotlib.figure.Figure at 0x11cf4fa20>"
      ]
     },
     "metadata": {},
     "output_type": "display_data"
    }
   ],
   "source": [
    "plt.plot(q_list,q_call_ITM_df[\"price\"],label=\"call option, ITM\")\n",
    "plt.plot(q_list,q_call_OTM_df[\"price\"],label=\"call option, OTM\")\n",
    "plt.plot(q_list,q_call_OTM_df[\"BS price\"],label=\"European call option, ITM\")\n",
    "plt.plot(q_list,q_call_ITM_df[\"BS price\"],label=\"European call option, OTM\")\n",
    "plt.legend()\n",
    "plt.title(\"q vs. price\")\n",
    "plt.show()"
   ]
  },
  {
   "cell_type": "code",
   "execution_count": 86,
   "metadata": {
    "collapsed": false
   },
   "outputs": [
    {
     "data": {
      "image/png": "[encoded data removed]",
      "text/plain": [
       "<matplotlib.figure.Figure at 0x11c77cf98>"
      ]
     },
     "metadata": {},
     "output_type": "display_data"
    }
   ],
   "source": [
    "plt.plot(q_list,q_call_ITM_df[\"delta\"],label=\"call option, ITM\")\n",
    "plt.plot(q_list,q_call_OTM_df[\"delta\"],label=\"call option, OTM\")\n",
    "plt.plot(q_list,q_call_ITM_df[\"BS delta\"],label=\"European call option, ITM\")\n",
    "plt.plot(q_list,q_call_OTM_df[\"BS delta\"],label=\"European call option, OTM\")\n",
    "plt.legend()\n",
    "plt.title(\"q vs. delta\")\n",
    "plt.show()"
   ]
  },
  {
   "cell_type": "markdown",
   "metadata": {},
   "source": [
    "### 6.3 volatility"
   ]
  },
  {
   "cell_type": "code",
   "execution_count": 116,
   "metadata": {
    "collapsed": true
   },
   "outputs": [],
   "source": [
    "sigma_low = 0.3\n",
    "sigma_high = 0.6\n",
    "sigma_list = [0.3, 0.4, 0.5, 0.6]"
   ]
  },
  {
   "cell_type": "code",
   "execution_count": 141,
   "metadata": {
    "collapsed": false
   },
   "outputs": [
    {
     "name": "stdout",
     "output_type": "stream",
     "text": [
      "price: 0.05744485878780141, delta-hedge: 0.278073757833854\n",
      "price: 0.22042752123264014, delta-hedge: 0.7675779308893705\n",
      "price: 0.10191951843712066, delta-hedge: 0.4400875854718613\n",
      "price: 0.2452901883686492, delta-hedge: 0.642588034338732\n",
      "price: 0.10916136399515046, delta-hedge: 0.27002551251377127\n",
      "price: 0.30912445467322314, delta-hedge: 0.5117862781937207\n",
      "price: 0.16053806012604524, delta-hedge: 0.29891383083442263\n",
      "price: 0.32523690546655193, delta-hedge: 0.42211719182261265\n"
     ]
    }
   ],
   "source": [
    "sigma_df1,sigma_df2 = averageExerciseTimeVolatility(S0=stock_price,K1=K1,K2=K2,T=time_to_maturity,r=risk_free_rate,q=dividend,sigma_list=sigma_list,option_type=\"p\")"
   ]
  },
  {
   "cell_type": "code",
   "execution_count": 142,
   "metadata": {
    "collapsed": false
   },
   "outputs": [],
   "source": [
    "sigma_put_OTM_df = sigma_df1\n",
    "sigma_put_ITM_df = sigma_df2"
   ]
  },
  {
   "cell_type": "code",
   "execution_count": 143,
   "metadata": {
    "collapsed": false
   },
   "outputs": [
    {
     "data": {
      "image/png": "[encoded data removed]",
      "text/plain": [
       "<matplotlib.figure.Figure at 0x11c85bf98>"
      ]
     },
     "metadata": {},
     "output_type": "display_data"
    }
   ],
   "source": [
    "plt.plot(sigma_list,sigma_put_ITM_df[\"average exercise time\"],label=\"put option, ITM\")\n",
    "plt.plot(sigma_list,sigma_put_OTM_df[\"average exercise time\"],label=\"put option, OTM\")\n",
    "plt.legend()\n",
    "plt.title(\"sigma vs. average exercise time\")\n",
    "plt.show()"
   ]
  },
  {
   "cell_type": "code",
   "execution_count": 127,
   "metadata": {
    "collapsed": false
   },
   "outputs": [
    {
     "data": {
      "image/png": "[encoded data removed]",
      "text/plain": [
       "<matplotlib.figure.Figure at 0x11c8f4160>"
      ]
     },
     "metadata": {},
     "output_type": "display_data"
    }
   ],
   "source": [
    "plt.plot(sigma_list,sigma_put_ITM_df[\"price\"],label=\"put option, ITM\")\n",
    "plt.plot(sigma_list,sigma_put_OTM_df[\"price\"],label=\"put option, OTM\")\n",
    "plt.plot(sigma_list,sigma_put_ITM_df[\"BS price\"],label=\"European put option, ITM\")\n",
    "plt.plot(sigma_list,sigma_put_OTM_df[\"BS price\"],label=\"European put option, OTM\")\n",
    "\n",
    "plt.legend()\n",
    "plt.title(\"sigma vs. price\")\n",
    "plt.show()"
   ]
  },
  {
   "cell_type": "code",
   "execution_count": 128,
   "metadata": {
    "collapsed": false
   },
   "outputs": [
    {
     "data": {
      "image/png": "[encoded data removed]",
      "text/plain": [
       "<matplotlib.figure.Figure at 0x11c74e1d0>"
      ]
     },
     "metadata": {},
     "output_type": "display_data"
    }
   ],
   "source": [
    "plt.plot(sigma_list,sigma_put_ITM_df[\"delta\"],label=\"put option, ITM\")\n",
    "plt.plot(sigma_list,sigma_put_OTM_df[\"delta\"],label=\"put option, OTM\")\n",
    "plt.plot(sigma_list,sigma_put_ITM_df[\"BS delta\"],label=\"European put option, ITM\")\n",
    "plt.plot(sigma_list,sigma_put_OTM_df[\"BS delta\"],label=\"European put option, OTM\")\n",
    "\n",
    "plt.legend()\n",
    "plt.title(\"sigma vs. delta\")\n",
    "plt.show()"
   ]
  },
  {
   "cell_type": "code",
   "execution_count": 132,
   "metadata": {
    "collapsed": false
   },
   "outputs": [
    {
     "name": "stdout",
     "output_type": "stream",
     "text": [
      "price: 0.20688963624406514, delta-hedge: -0.6166552181599961\n",
      "price: 0.07740253314872338, delta-hedge: -0.4329936547852073\n",
      "price: 0.25337734978682314, delta-hedge: -0.9248152664575845\n",
      "price: 0.12665229141843717, delta-hedge: -0.34575457681613114\n",
      "price: 0.2678658244179845, delta-hedge: -0.7311824586438068\n",
      "price: 0.18493295263470091, delta-hedge: -0.815996875222987\n",
      "price: 0.18013985936035184, delta-hedge: -1.0739456483533256\n",
      "price: 0.19798550930741426, delta-hedge: -0.7692272493477635\n"
     ]
    }
   ],
   "source": [
    "sigma_df1,sigma_df2 = averageExerciseTimeVolatility(S0=stock_price,K1=K1,K2=K2,T=time_to_maturity,r=risk_free_rate,q=dividend,sigma_list=sigma_list,option_type=\"c\")"
   ]
  },
  {
   "cell_type": "code",
   "execution_count": 133,
   "metadata": {
    "collapsed": true
   },
   "outputs": [],
   "source": [
    "sigma_call_ITM_df = sigma_df1\n",
    "sigma_call_OTM_df = sigma_df2"
   ]
  },
  {
   "cell_type": "code",
   "execution_count": 135,
   "metadata": {
    "collapsed": false
   },
   "outputs": [
    {
     "data": {
      "image/png": "[encoded data removed]",
      "text/plain": [
       "<matplotlib.figure.Figure at 0x11c727160>"
      ]
     },
     "metadata": {},
     "output_type": "display_data"
    }
   ],
   "source": [
    "plt.plot(sigma_list,sigma_call_ITM_df[\"average exercise time\"],label=\"call option, ITM\")\n",
    "plt.plot(sigma_list,sigma_call_OTM_df[\"average exercise time\"],label=\"call option, OTM\")\n",
    "plt.legend()\n",
    "plt.title(\"sigma vs. average exercise time\")\n",
    "plt.show()"
   ]
  },
  {
   "cell_type": "code",
   "execution_count": 137,
   "metadata": {
    "collapsed": false
   },
   "outputs": [
    {
     "data": {
      "image/png": "[encoded data removed]",
      "text/plain": [
       "<matplotlib.figure.Figure at 0x11c72f518>"
      ]
     },
     "metadata": {},
     "output_type": "display_data"
    }
   ],
   "source": [
    "plt.plot(sigma_list,sigma_call_ITM_df[\"price\"],label=\"call option, ITM\")\n",
    "plt.plot(sigma_list,sigma_call_OTM_df[\"price\"],label=\"call option, OTM\")\n",
    "plt.plot(sigma_list,sigma_call_ITM_df[\"BS price\"],label=\"European call option, ITM\")\n",
    "plt.plot(sigma_list,sigma_call_OTM_df[\"BS price\"],label=\"European call option, OTM\")\n",
    "\n",
    "plt.legend()\n",
    "plt.title(\"sigma vs. price\")\n",
    "plt.show()"
   ]
  },
  {
   "cell_type": "code",
   "execution_count": 139,
   "metadata": {
    "collapsed": false
   },
   "outputs": [
    {
     "data": {
      "image/png": "[encoded data removed]",
      "text/plain": [
       "<matplotlib.figure.Figure at 0x11cef0710>"
      ]
     },
     "metadata": {},
     "output_type": "display_data"
    }
   ],
   "source": [
    "plt.plot(sigma_list,sigma_call_ITM_df[\"delta\"],label=\"call option, ITM\")\n",
    "plt.plot(sigma_list,sigma_call_OTM_df[\"delta\"],label=\"call option, OTM\")\n",
    "plt.plot(sigma_list,sigma_call_ITM_df[\"BS delta\"],label=\"European call option, ITM\")\n",
    "plt.plot(sigma_list,sigma_call_OTM_df[\"BS delta\"],label=\"European call option, OTM\")\n",
    "\n",
    "plt.legend()\n",
    "plt.title(\"sigma vs. delta\")\n",
    "plt.show()"
   ]
  },
  {
   "cell_type": "code",
   "execution_count": null,
   "metadata": {
    "collapsed": true
   },
   "outputs": [],
   "source": []
  }
 ],
 "metadata": {
  "kernelspec": {
   "display_name": "Python 3",
   "language": "python",
   "name": "python3"
  },
  "language_info": {
   "codemirror_mode": {
    "name": "ipython",
    "version": 3
   },
   "file_extension": ".py",
   "mimetype": "text/x-python",
   "name": "python",
   "nbconvert_exporter": "python",
   "pygments_lexer": "ipython3",
   "version": "3.6.0"
  }
 },
 "nbformat": 4,
 "nbformat_minor": 2
}
